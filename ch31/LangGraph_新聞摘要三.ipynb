{
 "cells": [
  {
   "cell_type": "code",
   "execution_count": null,
   "id": "7c6ab4f3",
   "metadata": {
    "vscode": {
     "languageId": "plaintext"
    }
   },
   "outputs": [],
   "source": [
    "# 安裝必要套件\n",
    "!pip install langgraph openai"
   ]
  },
  {
   "cell_type": "code",
   "execution_count": null,
   "id": "d8a91dc2",
   "metadata": {
    "vscode": {
     "languageId": "plaintext"
    }
   },
   "outputs": [],
   "source": [
    "# 導入模組\n",
    "from langgraph.graph import StateGraph, END\n",
    "from dataclasses import dataclass\n",
    "from openai import OpenAI\n",
    "from typing import Dict\n",
    "from google.colab import userdata\n",
    "\n",
    "# 定義狀態結構\n",
    "@dataclass\n",
    "class SummaryState:\n",
    "    input: str  # 輸入新聞\n",
    "    summary: str = \"\"  # 生成的摘要\n",
    "    post: str = \"\"  # 生成的X貼文\n",
    "    iteration: int = 0  # 迭代次數\n",
    "\n",
    "# 初始化OpenAI客戶端\n",
    "client = OpenAI(api_key=userdata.get('OPENAI_API_KEY'))  # 從Colab環境獲取金鑰\n",
    "\n",
    "# 語言模型調用函數\n",
    "def llm_call(prompt: str, max_tokens: int = 150) -> str:\n",
    "    response = client.chat.completions.create(\n",
    "        model=\"gpt-4o\",\n",
    "        messages=[{\"role\": \"user\", \"content\": prompt}],\n",
    "        max_tokens=max_tokens,\n",
    "        temperature=0.5  # 保持中立語氣\n",
    "    )\n",
    "    return response.choices[0].message.content.strip()\n",
    "\n",
    "# 摘要生成節點\n",
    "def summary_node(state: SummaryState) -> Dict:\n",
    "    prompt = f\"將以下1000字新聞摘要為100字，保留主要事件、影響，語氣中立，語句流暢：\\n{state.input}\"\n",
    "    state.summary = llm_call(prompt)\n",
    "    return {\"summary\": state.summary}\n",
    "\n",
    "# 貼文生成節點\n",
    "def post_node(state: SummaryState) -> Dict:\n",
    "    prompt = f\"將以下100字摘要改編為50~100字X貼文，語氣中立，簡潔吸睛，包含2~3個標籤（如#科技）：\\n{state.summary}\"\n",
    "    state.post = llm_call(prompt, max_tokens=100)\n",
    "    return {\"post\": state.post}\n",
    "\n",
    "# 構建工作流程\n",
    "workflow = StateGraph(SummaryState)\n",
    "workflow.add_node(\"summary_node\", summary_node)\n",
    "workflow.add_node(\"post_node\", post_node)\n",
    "workflow.set_entry_point(\"summary_node\")\n",
    "workflow.add_edge(\"summary_node\", \"post_node\")\n",
    "workflow.add_edge(\"post_node\", END)\n",
    "graph = workflow.compile()\n",
    "\n",
    "# 範例新聞（1000字，實際使用可替換）\n",
    "news = \"\"\"\n",
    "人工智慧新突破：醫療影像診斷提升90%準確率\n",
    "人工智慧（AI）在醫療領域再創里程碑！一項由國際研究團隊開發的新技術，將醫療影像診斷的準確率提升至90%，遠超傳統方法的70%。這項技術利用深度學習模型，結合大數據分析，能自動識別醫療影像中的異常區域，並生成診斷報告。研究顯示，這不僅大幅提升診斷效率，還能將癌症篩查的誤診率降低30%，為患者提供更早的治療機會。團隊表示，這項技術可減輕醫生負擔，讓他們專注於複雜病例的處理。專家認為，AI在醫療影像診斷的應用前景廣闊，未來有望整合至醫院系統，推動智慧醫療發展。然而，技術普及仍需解決資料隱私與模型透明度等挑戰。這項突破已在多個醫學會議上獲得關注，預計將影響全球醫療產業。\n",
    "[假設此處還有約800字的擴充內容，描述技術細節、案例與未來展望等]\n",
    "\"\"\"\n",
    "\n",
    "# 執行貼文生成\n",
    "result = graph.invoke(SummaryState(input=news))\n",
    "print(f\"生成的100字摘要：\\n{result['summary']}\")\n",
    "print(f\"生成的X貼文：\\n{result['post']}\")"
   ]
  }
 ],
 "metadata": {
  "language_info": {
   "name": "python"
  }
 },
 "nbformat": 4,
 "nbformat_minor": 5
}
