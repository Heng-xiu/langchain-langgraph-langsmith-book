{
  "nbformat": 4,
  "nbformat_minor": 0,
  "metadata": {
    "colab": {
      "provenance": []
    },
    "kernelspec": {
      "name": "python3",
      "display_name": "Python 3"
    },
    "language_info": {
      "name": "python"
    }
  },
  "cells": [
    {
      "cell_type": "markdown",
      "source": [
        "- 撰稿人：許恆修"
      ],
      "metadata": {
        "id": "A-vxIp6DC4iV"
      }
    },
    {
      "cell_type": "markdown",
      "source": [
        "# 安裝 & 基本用法\n",
        "\n",
        "Python 第三方 Library Gradio 快速上手\n",
        "- python 版本要求 3.7 以上"
      ],
      "metadata": {
        "id": "Yi8XQGyLCGvU"
      }
    },
    {
      "cell_type": "code",
      "execution_count": null,
      "metadata": {
        "colab": {
          "base_uri": "https://localhost:8080/"
        },
        "id": "r9MxJ-6wBVII",
        "outputId": "008b71e5-d376-4f46-b634-60c50c253dbd"
      },
      "outputs": [
        {
          "output_type": "stream",
          "name": "stdout",
          "text": [
            "\u001b[2K   \u001b[90m━━━━━━━━━━━━━━━━━━━━━━━━━━━━━━━━━━━━━━━━\u001b[0m \u001b[32m57.2/57.2 MB\u001b[0m \u001b[31m9.0 MB/s\u001b[0m eta \u001b[36m0:00:00\u001b[0m\n",
            "\u001b[2K   \u001b[90m━━━━━━━━━━━━━━━━━━━━━━━━━━━━━━━━━━━━━━━━\u001b[0m \u001b[32m320.4/320.4 kB\u001b[0m \u001b[31m17.4 MB/s\u001b[0m eta \u001b[36m0:00:00\u001b[0m\n",
            "\u001b[2K   \u001b[90m━━━━━━━━━━━━━━━━━━━━━━━━━━━━━━━━━━━━━━━━\u001b[0m \u001b[32m94.8/94.8 kB\u001b[0m \u001b[31m5.2 MB/s\u001b[0m eta \u001b[36m0:00:00\u001b[0m\n",
            "\u001b[2K   \u001b[90m━━━━━━━━━━━━━━━━━━━━━━━━━━━━━━━━━━━━━━━━\u001b[0m \u001b[32m11.3/11.3 MB\u001b[0m \u001b[31m55.2 MB/s\u001b[0m eta \u001b[36m0:00:00\u001b[0m\n",
            "\u001b[2K   \u001b[90m━━━━━━━━━━━━━━━━━━━━━━━━━━━━━━━━━━━━━━━━\u001b[0m \u001b[32m73.2/73.2 kB\u001b[0m \u001b[31m4.3 MB/s\u001b[0m eta \u001b[36m0:00:00\u001b[0m\n",
            "\u001b[2K   \u001b[90m━━━━━━━━━━━━━━━━━━━━━━━━━━━━━━━━━━━━━━━━\u001b[0m \u001b[32m62.3/62.3 kB\u001b[0m \u001b[31m4.3 MB/s\u001b[0m eta \u001b[36m0:00:00\u001b[0m\n",
            "\u001b[?25h"
          ]
        }
      ],
      "source": [
        "!pip install --quiet gradio"
      ]
    },
    {
      "cell_type": "markdown",
      "source": [
        "檢視 Python 版本"
      ],
      "metadata": {
        "id": "rJCCrE3SCYCm"
      }
    },
    {
      "cell_type": "code",
      "source": [
        "!python -V"
      ],
      "metadata": {
        "colab": {
          "base_uri": "https://localhost:8080/"
        },
        "id": "CBUdR-tcCXoE",
        "outputId": "bcbdd644-24bb-4d13-e173-c1c060f1be5a"
      },
      "execution_count": null,
      "outputs": [
        {
          "output_type": "stream",
          "name": "stdout",
          "text": [
            "Python 3.10.12\n"
          ]
        }
      ]
    },
    {
      "cell_type": "markdown",
      "source": [
        "檢視 Gradio 版本"
      ],
      "metadata": {
        "id": "2ijc86aECdOI"
      }
    },
    {
      "cell_type": "code",
      "source": [
        "!pip show gradio"
      ],
      "metadata": {
        "colab": {
          "base_uri": "https://localhost:8080/"
        },
        "id": "2F4WfgzhCgth",
        "outputId": "2478bdff-c3b5-40a0-c2c1-0106a8e78da4"
      },
      "execution_count": null,
      "outputs": [
        {
          "output_type": "stream",
          "name": "stdout",
          "text": [
            "Name: gradio\n",
            "Version: 5.9.1\n",
            "Summary: Python library for easily interacting with trained machine learning models\n",
            "Home-page: https://github.com/gradio-app/gradio\n",
            "Author: \n",
            "Author-email: Abubakar Abid <gradio-team@huggingface.co>, Ali Abid <gradio-team@huggingface.co>, Ali Abdalla <gradio-team@huggingface.co>, Dawood Khan <gradio-team@huggingface.co>, Ahsen Khaliq <gradio-team@huggingface.co>, Pete Allen <gradio-team@huggingface.co>, Ömer Faruk Özdemir <gradio-team@huggingface.co>, Freddy A Boulton <gradio-team@huggingface.co>, Hannah Blair <gradio-team@huggingface.co>\n",
            "License: \n",
            "Location: /usr/local/lib/python3.10/dist-packages\n",
            "Requires: aiofiles, anyio, fastapi, ffmpy, gradio-client, httpx, huggingface-hub, jinja2, markupsafe, numpy, orjson, packaging, pandas, pillow, pydantic, pydub, python-multipart, pyyaml, ruff, safehttpx, semantic-version, starlette, tomlkit, typer, typing-extensions, uvicorn\n",
            "Required-by: \n"
          ]
        }
      ]
    },
    {
      "cell_type": "markdown",
      "source": [
        "---"
      ],
      "metadata": {
        "id": "2GR5KY2vE-pQ"
      }
    },
    {
      "cell_type": "markdown",
      "source": [
        "# 快速入門\n",
        "\n",
        "讓我們從一個簡單的“Hello World”示例開始，熟悉 Gradio 語法："
      ],
      "metadata": {
        "id": "POA8OTsECoEQ"
      }
    },
    {
      "cell_type": "markdown",
      "source": [
        "\n",
        "```\n",
        "import gradio as gr\n",
        "\n",
        "def greet(name):\n",
        "    return \"Hello \" + name + \"!\"\n",
        "\n",
        "demo = gr.Interface(\n",
        "    fn=greet,\n",
        "    inputs=\"textbox\",\n",
        "    outputs=\"textbox\"\n",
        "  )\n",
        "    \n",
        "demo.launch(share=True)   # 只需額外一個參數即可分享您的範例 🚀\n",
        "```\n",
        "\n",
        "讓我們看一下上面的程式碼：\n",
        "\n",
        "- 首先，我們定義一個名為 greet() 的函數。 在這種情況下，它是一個在您的名字前添加\"Hello\"的簡單函數。例如，在機器學習應用程序中，此函數將調用模型以對輸入進行預測並返回輸出。\n",
        "- 然後，我們創建一個帶有三個參數的 Gradio `Interface`，`fn`、`inputs` 和 `outputs`。 這些參數定義了預測函數，以及我們想要的輸入和輸出組件的type。 在我們的例子中，兩個元件都是簡單的文本框。\n",
        "- 然後我們在我們創建的 `Interface` 上調用 `launch()` 方法。\n",
        "- 為了讓服務可以分享給他人做使用，在 `launch()` 函數中塞入參數 `share=True`"
      ],
      "metadata": {
        "id": "FcNem1JBMlmD"
      }
    },
    {
      "cell_type": "markdown",
      "source": [
        "## 執行程式碼\n",
        "\n",
        "立刻在 colab 當中執行吧！"
      ],
      "metadata": {
        "id": "q1KBGZ_IN3wj"
      }
    },
    {
      "cell_type": "code",
      "source": [
        "import gradio as gr\n",
        "\n",
        "def greet(name):\n",
        "    return \"Hello \" + name + \"!\"\n",
        "\n",
        "demo = gr.Interface(\n",
        "    fn=greet,\n",
        "    inputs=\"textbox\",\n",
        "    outputs=\"textbox\"\n",
        "  )\n",
        "\n",
        "demo.launch(share=True)   # 只需額外一個參數即可分享您的範例 🚀"
      ],
      "metadata": {
        "colab": {
          "base_uri": "https://localhost:8080/",
          "height": 610
        },
        "id": "BVNBTryeCjBR",
        "outputId": "92c5b725-a3d0-48c7-c694-8b879dfe4e50"
      },
      "execution_count": null,
      "outputs": [
        {
          "output_type": "stream",
          "name": "stdout",
          "text": [
            "Colab notebook detected. To show errors in colab notebook, set debug=True in launch()\n",
            "* Running on public URL: https://db890a89782198646d.gradio.live\n",
            "\n",
            "This share link expires in 72 hours. For free permanent hosting and GPU upgrades, run `gradio deploy` from the terminal in the working directory to deploy to Hugging Face Spaces (https://huggingface.co/spaces)\n"
          ]
        },
        {
          "output_type": "display_data",
          "data": {
            "text/plain": [
              "<IPython.core.display.HTML object>"
            ],
            "text/html": [
              "<div><iframe src=\"https://db890a89782198646d.gradio.live\" width=\"100%\" height=\"500\" allow=\"autoplay; camera; microphone; clipboard-read; clipboard-write;\" frameborder=\"0\" allowfullscreen></iframe></div>"
            ]
          },
          "metadata": {}
        },
        {
          "output_type": "execute_result",
          "data": {
            "text/plain": []
          },
          "metadata": {},
          "execution_count": 6
        }
      ]
    },
    {
      "cell_type": "markdown",
      "source": [
        "立即嘗試使用您自己的姓名或其他輸入來使用此 GUI！"
      ],
      "metadata": {
        "id": "fBzyeVVQIlxI"
      }
    },
    {
      "cell_type": "markdown",
      "source": [
        "## 延伸修改\n",
        "\n",
        "您會注意到，在這個 GUI 中，Gradio 自動推斷輸入參數的名稱 (name)並將其應用為文本框頂部的標籤。 如果你想改變它怎麼辦？或者，如果您想以其他方式自定義文本框？ 在這種情況下，您可以實例化一個表示輸入組件的類對象。\n",
        "\n",
        "\n",
        "\n",
        "\n",
        "```\n",
        "import gradio as gr\n",
        "\n",
        "def greet(name):\n",
        "    return \"Hello \" + name\n",
        "\n",
        "# 實例化一個表示輸入組件\n",
        "textbox = gr.Textbox(label=\"輸入你的名稱:\", placeholder=\"許恆修\", lines=2)\n",
        "\n",
        "gr.Interface(fn=greet, inputs=textbox, outputs=\"text\").launch()\n",
        "```\n",
        "\n"
      ],
      "metadata": {
        "id": "Q-TQzEfkOSuo"
      }
    },
    {
      "cell_type": "code",
      "source": [
        "import gradio as gr\n",
        "\n",
        "def greet(name):\n",
        "    return \"你好 \" + name\n",
        "\n",
        "# 實例化一個表示輸入組件\n",
        "textbox = gr.Textbox(\n",
        "    label=\"輸入你的名稱:\",\n",
        "    placeholder=\"許恆修\",\n",
        "    lines=2\n",
        ")\n",
        "\n",
        "gr.Interface(\n",
        "    fn=greet,\n",
        "    inputs=textbox,\n",
        "    outputs=\"text\"\n",
        ").launch()"
      ],
      "metadata": {
        "colab": {
          "base_uri": "https://localhost:8080/",
          "height": 645
        },
        "id": "jpozKa73Ob_9",
        "outputId": "f18cc39d-fa33-4558-8419-bf1da119978a"
      },
      "execution_count": null,
      "outputs": [
        {
          "output_type": "stream",
          "name": "stdout",
          "text": [
            "Running Gradio in a Colab notebook requires sharing enabled. Automatically setting `share=True` (you can turn this off by setting `share=False` in `launch()` explicitly).\n",
            "\n",
            "Colab notebook detected. To show errors in colab notebook, set debug=True in launch()\n",
            "* Running on public URL: https://340117877240e1b620.gradio.live\n",
            "\n",
            "This share link expires in 72 hours. For free permanent hosting and GPU upgrades, run `gradio deploy` from the terminal in the working directory to deploy to Hugging Face Spaces (https://huggingface.co/spaces)\n"
          ]
        },
        {
          "output_type": "display_data",
          "data": {
            "text/plain": [
              "<IPython.core.display.HTML object>"
            ],
            "text/html": [
              "<div><iframe src=\"https://340117877240e1b620.gradio.live\" width=\"100%\" height=\"500\" allow=\"autoplay; camera; microphone; clipboard-read; clipboard-write;\" frameborder=\"0\" allowfullscreen></iframe></div>"
            ]
          },
          "metadata": {}
        },
        {
          "output_type": "execute_result",
          "data": {
            "text/plain": []
          },
          "metadata": {},
          "execution_count": 8
        }
      ]
    },
    {
      "cell_type": "markdown",
      "source": [
        "在這裡，我們創建了一個帶有標籤(label)、佔位符(placeholder)和一組行數(lines)的輸入文本框(gr.Text)。您可以對輸出文本框執行相同的操作，但我們現在將其保留。\n",
        "\n",
        "我們已經看到，只需幾行代碼，Gradio 就可以讓您圍繞任何具有任何類型輸入或輸出的函數創建一個簡單的界面。"
      ],
      "metadata": {
        "id": "tLxbwV_PO8mL"
      }
    },
    {
      "cell_type": "markdown",
      "source": [
        "# 機能運轉介紹 - Gradio share()"
      ],
      "metadata": {
        "id": "IpPnByHGImcn"
      }
    },
    {
      "cell_type": "markdown",
      "source": [
        "這將產生一個公開的、可分享的連結，您可以將此連結發送給任何人！當您發送這個連結時，對方可以在他們的瀏覽器中試用這個模型。由於處理是在您的裝置上進行的（只要您的裝置保持開機），您無需擔心打包任何依賴項。\n",
        "\n",
        "[IMG]\n",
        "\n",
        "分享連結通常看起來像這樣：[https://4841319b7d4d867485.gradio.live](https://4841319b7d4d867485.gradio.live)。雖然這個連結是通過 Gradio 分享伺服器提供服務，但這些伺服器僅作為您本地伺服器的代理，不會儲存通過您的應用程式傳送的任何資料。分享連結會在 72 小時後過期。（您也可以在自己的雲端伺服器上設置自己的分享伺服器，以克服此限制。）"
      ],
      "metadata": {
        "id": "GGV98BWCEhGj"
      }
    },
    {
      "cell_type": "markdown",
      "source": [
        "**提示！**\n",
        "請記住，分享連結是公開可存取的，這意味著任何人都可以使用您的模型進行預測！因此，請確保不要透過您編寫的函數洩露任何敏感資訊，或允許在您的裝置上進行任何關鍵變更。或者，您可以如下面所述為您的 Gradio 應用程式添加身份驗證。"
      ],
      "metadata": {
        "id": "MrMWLysIElML"
      }
    },
    {
      "cell_type": "markdown",
      "source": [
        "請注意，預設情況下，share=False，這意味著您的伺服器僅在本地運行。（這是預設設定，除了在 Google Colab 筆記本中，分享連結會自動創建）。作為使用分享連結的替代方案，您可以使用 [SSH 端口轉發技術](https://www.ssh.com/academy/ssh/tunneling-example)與特定用戶分享您的本地伺服器。"
      ],
      "metadata": {
        "id": "igbA2EWnEmXJ"
      }
    },
    {
      "cell_type": "markdown",
      "source": [
        "立即嘗試使用您自己的姓名或其他輸入來使用此 GUI！\n",
        "\n",
        "您會注意到，在這個 GUI 中，Gradio 自動推斷輸入參數的名稱 (name)並將其應用為文本框頂部的標籤。 如果你想改變它怎麼辦？或者，如果您想以其他方式自定義文本框？ 在這種情況下，您可以實例化一個表示輸入組件的類對象。"
      ],
      "metadata": {
        "id": "dw6FQUsnIjmc"
      }
    },
    {
      "cell_type": "code",
      "source": [],
      "metadata": {
        "id": "KRKKQChtDaGi"
      },
      "execution_count": null,
      "outputs": []
    }
  ]
}