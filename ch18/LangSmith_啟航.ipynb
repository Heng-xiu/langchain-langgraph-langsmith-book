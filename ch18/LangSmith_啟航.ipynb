{
 "cells": [
  {
   "cell_type": "markdown",
   "id": "67476d7c",
   "metadata": {},
   "source": [
    "# 環境安裝"
   ]
  },
  {
   "cell_type": "code",
   "execution_count": null,
   "id": "1c640f9d",
   "metadata": {
    "vscode": {
     "languageId": "plaintext"
    }
   },
   "outputs": [],
   "source": [
    "%%capture\n",
    "%pip install --quiet langsmith>=0.2.0 langchain-community langchain-core langchain-openai python-dotenv lxml scikit-learn pandas pyarrow"
   ]
  },
  {
   "cell_type": "markdown",
   "id": "12b048b8",
   "metadata": {},
   "source": [
    "接下來，設置 OpenAI API 密鑰："
   ]
  },
  {
   "cell_type": "code",
   "execution_count": null,
   "id": "5e14fae0",
   "metadata": {
    "vscode": {
     "languageId": "plaintext"
    }
   },
   "outputs": [],
   "source": [
    "import os\n",
    "from google.colab import userdata\n",
    "\n",
    "os.environ[\"OPENAI_API_KEY\"] = userdata.get('OPENAI_API_KEY')\n",
    "\n",
    "os.environ[\"LANGSMITH_TRACING\"] = \"true\"\n",
    "os.environ[\"LANGSMITH_ENDPOINT\"] = \"https://api.smith.langchain.com\"\n",
    "os.environ[\"LANGSMITH_API_KEY\"] = userdata.get('LANGCHAIN_API_KEY')"
   ]
  },
  {
   "cell_type": "markdown",
   "id": "4a851f00",
   "metadata": {},
   "source": [
    "###紀錄任何執行過的 Trace 痕跡\n",
    "\n",
    "無需額外程式碼即可將追蹤記錄到 LangSmith。只需像平常一樣運行 LangChain 程式碼即可。"
   ]
  },
  {
   "cell_type": "code",
   "execution_count": null,
   "id": "bad97d61",
   "metadata": {
    "vscode": {
     "languageId": "plaintext"
    }
   },
   "outputs": [],
   "source": [
    "from langchain_openai import ChatOpenAI\n",
    "from langchain_core.prompts import ChatPromptTemplate\n",
    "from langchain_core.output_parsers import StrOutputParser\n",
    "\n",
    "prompt = ChatPromptTemplate.from_messages([\n",
    "    (\"system\", \"You are a helpful assistant. Please respond to the user's request only based on the given context.\"),\n",
    "    (\"user\", \"Question: {question}\\nContext: {context}\")\n",
    "])\n",
    "\n",
    "model = ChatOpenAI(model=\"gpt-4o-mini\")\n",
    "output_parser = StrOutputParser()\n",
    "chain = prompt | model | output_parser\n",
    "\n",
    "question = \"Can you summarize this morning's meetings?\"\n",
    "context = \"During this morning's meeting, we solved all world conflict.\"\n",
    "\n",
    "chain.invoke({\"question\": question, \"context\": context})"
   ]
  }
 ],
 "metadata": {
  "language_info": {
   "name": "python"
  }
 },
 "nbformat": 4,
 "nbformat_minor": 5
}
