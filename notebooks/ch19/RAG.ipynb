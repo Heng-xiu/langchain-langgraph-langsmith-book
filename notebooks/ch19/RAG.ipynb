{
 "cells": [
  {
   "cell_type": "markdown",
   "id": "7ba02fda",
   "metadata": {},
   "source": [
    "# 安裝並導入所需的套件"
   ]
  },
  {
   "cell_type": "code",
   "execution_count": null,
   "id": "bdce7bf0",
   "metadata": {
    "vscode": {
     "languageId": "plaintext"
    }
   },
   "outputs": [],
   "source": [
    "!pip install langchain langchain-openai langchain-community chromadb pypdf"
   ]
  },
  {
   "cell_type": "code",
   "execution_count": null,
   "id": "97660e08",
   "metadata": {
    "vscode": {
     "languageId": "plaintext"
    }
   },
   "outputs": [],
   "source": [
    "# 導入必要的模組\n",
    "from langchain.document_loaders import PyPDFLoader, TextLoader\n",
    "from langchain.text_splitter import RecursiveCharacterTextSplitter\n",
    "from langchain.embeddings import OpenAIEmbeddings\n",
    "from langchain.vectorstores import Chroma\n",
    "from langchain.chains import RetrievalQA\n",
    "from langchain.chat_models import ChatOpenAI\n",
    "from langchain.prompts import PromptTemplate\n",
    "import os\n",
    "\n",
    "# 設定 OpenAI API Key（請替換為您的實際 API Key）\n",
    "os.environ[\"OPENAI_API_KEY\"] = \"your-openai-api-key-here\""
   ]
  },
  {
   "cell_type": "markdown",
   "id": "9875464c",
   "metadata": {},
   "source": [
    "## 第一步：知識庫建設階段"
   ]
  },
  {
   "cell_type": "markdown",
   "id": "6ba16dcb",
   "metadata": {},
   "source": [
    "### 步驟ㄧ、載入文件\n",
    "這裡我們創建一個示例文件來演示"
   ]
  },
  {
   "cell_type": "code",
   "execution_count": null,
   "id": "958f5bee",
   "metadata": {
    "vscode": {
     "languageId": "plaintext"
    }
   },
   "outputs": [],
   "source": [
    "sample_text = \"\"\"\n",
    "公司遠端工作政策\n",
    "\n",
    "為了提供員工更大的工作靈活性，本公司制定以下遠端工作政策：\n",
    "\n",
    "1. 遠端工作資格\n",
    "- 所有全職員工在入職滿 6 個月後，可申請遠端工作\n",
    "- 部分職位可能因工作性質不適用遠端工作\n",
    "\n",
    "2. 工作時間要求\n",
    "- 遠端工作者須維持標準工作時間：上午 9 點至下午 6 點\n",
    "- 必須在團隊核心會議時間（上午 10 點至下午 4 點）保持在線\n",
    "\n",
    "3. 設備與技術要求\n",
    "- 公司提供筆記型電腦和必要軟體\n",
    "- 員工需確保穩定的網路連線\n",
    "- 須安裝公司指定的安全軟體\n",
    "\n",
    "4. 績效評估\n",
    "- 遠端工作員工的績效評估標準與辦公室員工相同\n",
    "- 採用目標導向的評估方式\n",
    "\"\"\"\n"
   ]
  },
  {
   "cell_type": "code",
   "execution_count": null,
   "id": "357aaafb",
   "metadata": {
    "vscode": {
     "languageId": "plaintext"
    }
   },
   "outputs": [],
   "source": [
    "# 將示例文字儲存為檔案\n",
    "with open(\"company_policy.txt\", \"w\", encoding=\"utf-8\") as f:\n",
    "    f.write(sample_text)\n",
    "\n",
    "# 使用 TextLoader 載入文件\n",
    "loader = TextLoader(\"company_policy.txt\", encoding=\"utf-8\")\n",
    "documents = loader.load()\n",
    "\n",
    "print(f\"成功載入 {len(documents)} 個文件\")\n",
    "print(f\"文件內容長度：{len(documents[0].page_content)} 字符\")"
   ]
  },
  {
   "cell_type": "markdown",
   "id": "73515abf",
   "metadata": {},
   "source": [
    "### 步驟二、文件分割"
   ]
  },
  {
   "cell_type": "code",
   "execution_count": null,
   "id": "62ad8bab",
   "metadata": {
    "vscode": {
     "languageId": "plaintext"
    }
   },
   "outputs": [],
   "source": [
    "text_splitter = RecursiveCharacterTextSplitter(\n",
    "    chunk_size=500,        # 每個片段的最大字符數\n",
    "    chunk_overlap=50,      # 片段之間的重疊字符數\n",
    "    length_function=len,   # 使用字符數作為長度計算\n",
    "    separators=[\"\\n\\n\", \"\\n\", \" \", \"\"]  # 分割的優先順序\n",
    ")\n",
    "\n",
    "# 執行分割\n",
    "text_chunks = text_splitter.split_documents(documents)\n",
    "\n",
    "print(f\"文件已分割為 {len(text_chunks)} 個片段\")\n",
    "for i, chunk in enumerate(text_chunks):\n",
    "    print(f\"片段 {i+1} 長度：{len(chunk.page_content)} 字符\")\n",
    "    print(f\"內容預覽：{chunk.page_content[:100]}...\")\n",
    "    print(\"-\" * 50)"
   ]
  },
  {
   "cell_type": "markdown",
   "id": "8fb9dfb0",
   "metadata": {},
   "source": [
    "### 步驟三、生成嵌入並建立向量資料庫"
   ]
  },
  {
   "cell_type": "code",
   "execution_count": null,
   "id": "ef2acd0c",
   "metadata": {
    "vscode": {
     "languageId": "plaintext"
    }
   },
   "outputs": [],
   "source": [
    "embeddings = OpenAIEmbeddings()\n",
    "\n",
    "# 建立向量資料庫\n",
    "vector_store = Chroma.from_documents(\n",
    "    documents=text_chunks,\n",
    "    embedding=embeddings,\n",
    "    persist_directory=\"./chroma_db\"  # 本地持久化儲存\n",
    ")\n",
    "\n",
    "print(\"向量資料庫建立完成！\")\n",
    "print(f\"資料庫中共有 {vector_store._collection.count()} 個向量\")\n"
   ]
  },
  {
   "cell_type": "markdown",
   "id": "d9165bbe",
   "metadata": {},
   "source": [
    "## 第二步、查詢處理階段"
   ]
  },
  {
   "cell_type": "markdown",
   "id": "ca40c184",
   "metadata": {},
   "source": [
    "### 步驟ㄧ、設定檢索器"
   ]
  },
  {
   "cell_type": "code",
   "execution_count": null,
   "id": "a0fd77bf",
   "metadata": {
    "vscode": {
     "languageId": "plaintext"
    }
   },
   "outputs": [],
   "source": [
    "retriever = vector_store.as_retriever(\n",
    "    search_type=\"similarity\",    # 使用相似度搜尋\n",
    "    search_kwargs={\"k\": 3}      # 檢索最相關的 3 個片段\n",
    ")\n",
    "\n",
    "# 測試檢索功能\n",
    "user_question = \"公司的遠端工作政策是什麼？\"\n",
    "relevant_docs = retriever.get_relevant_documents(user_question)\n",
    "\n",
    "print(f\"問題：{user_question}\")\n",
    "print(f\"找到 {len(relevant_docs)} 個相關文件片段：\\n\")\n",
    "\n",
    "for i, doc in enumerate(relevant_docs):\n",
    "    print(f\"片段 {i+1}:\")\n",
    "    print(doc.page_content)\n",
    "    print(\"-\" * 50)\n"
   ]
  },
  {
   "cell_type": "markdown",
   "id": "a21ec5a5",
   "metadata": {},
   "source": [
    "### 步驟二、設定語言模型和提示模板"
   ]
  },
  {
   "cell_type": "code",
   "execution_count": null,
   "id": "acc9acce",
   "metadata": {
    "vscode": {
     "languageId": "plaintext"
    }
   },
   "outputs": [],
   "source": [
    "llm = ChatOpenAI(\n",
    "    model_name=\"gpt-3.5-turbo\",\n",
    "    temperature=0.1  # 較低的溫度確保回答的一致性\n",
    ")\n",
    "\n",
    "# 自訂提示模板\n",
    "prompt_template = \"\"\"你是一個專業的企業政策諮詢助理。請根據以下提供的公司文件內容，回答用戶的問題。\n",
    "\n",
    "相關文件內容：\n",
    "{context}\n",
    "\n",
    "用戶問題：{question}\n",
    "\n",
    "請注意：\n",
    "1. 請只基於提供的文件內容回答，不要添加文件中沒有的資訊\n",
    "2. 如果文件中沒有相關資訊，請明確說明\n",
    "3. 回答要清晰、準確且有條理\n",
    "\n",
    "回答：\"\"\"\n",
    "\n",
    "prompt = PromptTemplate(\n",
    "    template=prompt_template,\n",
    "    input_variables=[\"context\", \"question\"]\n",
    ")"
   ]
  },
  {
   "cell_type": "markdown",
   "id": "5471b69c",
   "metadata": {},
   "source": [
    "### 步驟三、建立完整 RAG 鏈"
   ]
  },
  {
   "cell_type": "code",
   "execution_count": null,
   "id": "cd873274",
   "metadata": {
    "vscode": {
     "languageId": "plaintext"
    }
   },
   "outputs": [],
   "source": [
    "qa_chain = RetrievalQA.from_chain_type(\n",
    "    llm=llm,\n",
    "    chain_type=\"stuff\",           # 將所有檢索到的文件合併後傳給 LLM\n",
    "    retriever=retriever,\n",
    "    chain_type_kwargs={\"prompt\": prompt},\n",
    "    return_source_documents=True  # 同時返回來源文件\n",
    ")\n",
    "\n",
    "# 執行查詢\n",
    "result = qa_chain({\"query\": user_question})\n",
    "\n",
    "print(\"=== RAG 系統回答 ===\")\n",
    "print(f\"問題：{result['query']}\")\n",
    "print(f\"答案：{result['result']}\")\n",
    "print(\"\\n=== 來源文件 ===\")\n",
    "for i, doc in enumerate(result['source_documents']):\n",
    "    print(f\"來源 {i+1}：{doc.page_content[:200]}...\")\n"
   ]
  },
  {
   "cell_type": "markdown",
   "id": "874bfef5",
   "metadata": {},
   "source": [
    "測試問題"
   ]
  },
  {
   "cell_type": "code",
   "execution_count": null,
   "id": "c7bc330e",
   "metadata": {
    "vscode": {
     "languageId": "plaintext"
    }
   },
   "outputs": [],
   "source": [
    "# 測試更多問題\n",
    "test_questions = [\n",
    "    \"遠端工作需要滿足什麼資格？\",\n",
    "    \"公司提供哪些設備給遠端工作者？\",\n",
    "    \"遠端工作者的工作時間要求是什麼？\",\n",
    "    \"如何評估遠端工作員工的績效？\"\n",
    "]\n",
    "\n",
    "for question in test_questions:\n",
    "    print(f\"\\n問題：{question}\")\n",
    "    result = qa_chain({\"query\": question})\n",
    "    print(f\"答案：{result['result']}\")\n",
    "    print(\"-\" * 80)\n"
   ]
  },
  {
   "cell_type": "code",
   "execution_count": null,
   "id": "b42a2476",
   "metadata": {
    "vscode": {
     "languageId": "plaintext"
    }
   },
   "outputs": [],
   "source": []
  }
 ],
 "metadata": {
  "language_info": {
   "name": "python"
  }
 },
 "nbformat": 4,
 "nbformat_minor": 5
}
