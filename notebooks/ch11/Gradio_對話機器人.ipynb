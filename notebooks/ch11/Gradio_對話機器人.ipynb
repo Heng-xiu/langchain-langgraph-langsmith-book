{
  "nbformat": 4,
  "nbformat_minor": 0,
  "metadata": {
    "colab": {
      "provenance": []
    },
    "kernelspec": {
      "name": "python3",
      "display_name": "Python 3"
    },
    "language_info": {
      "name": "python"
    }
  },
  "cells": [
    {
      "cell_type": "markdown",
      "source": [
        "- 撰稿人：許恆修"
      ],
      "metadata": {
        "id": "sVPWeRzsJN44"
      }
    },
    {
      "cell_type": "markdown",
      "source": [
        "# 安裝 & 基本用法\n",
        "\n",
        "Python 第三方 Library Gradio 快速上手\n",
        "- python 版本要求 3.7 以上"
      ],
      "metadata": {
        "id": "IKg2qy_TJTBp"
      }
    },
    {
      "cell_type": "code",
      "execution_count": null,
      "metadata": {
        "id": "TOM8TiqWJF4H"
      },
      "outputs": [],
      "source": [
        "!pip install --quiet gradio"
      ]
    },
    {
      "cell_type": "markdown",
      "source": [
        "檢視 Python 版本"
      ],
      "metadata": {
        "id": "Zy4PRZJwJVjy"
      }
    },
    {
      "cell_type": "code",
      "source": [
        "!python -V"
      ],
      "metadata": {
        "id": "jaP1c1-IJWpC"
      },
      "execution_count": null,
      "outputs": []
    },
    {
      "cell_type": "markdown",
      "source": [
        "檢視 Gradio 版本"
      ],
      "metadata": {
        "id": "fL6aKUWsJYF2"
      }
    },
    {
      "cell_type": "code",
      "source": [
        "!pip show gradio"
      ],
      "metadata": {
        "id": "0xOb0cxNJZTp"
      },
      "execution_count": null,
      "outputs": []
    },
    {
      "cell_type": "markdown",
      "source": [
        "---"
      ],
      "metadata": {
        "id": "1R8aT9xcJaoJ"
      }
    },
    {
      "cell_type": "markdown",
      "source": [
        "#建立聊天機器人"
      ],
      "metadata": {
        "id": "fCg7MM_nJb_t"
      }
    },
    {
      "cell_type": "markdown",
      "source": [
        "在人工智慧（AI）領域中，**聊天機器人**（Chatbot）已成為大型語言模型（LLMs, Large Language Models）最受歡迎的應用之一。借助 **Gradio**，你可以輕鬆打造 LLM 的互動示範應用並與使用者共享，或直接透過直覺式聊天介面進行測試。本教學將示範如何透過 `gr.ChatInterface()` 快速構建聊天機器人，以及如何進一步客製化你的系統。"
      ],
      "metadata": {
        "id": "rFEYjpUaK-7_"
      }
    },
    {
      "cell_type": "markdown",
      "source": [
        "## 結構介紹\n",
        "\n",
        "讓我們先整體說明要完成的內容有哪些，可以看到下圖列表結構。"
      ],
      "metadata": {
        "id": "60Kw3FozNgmz"
      }
    },
    {
      "cell_type": "code",
      "source": [],
      "metadata": {
        "id": "Ed-UwG_dJdV5"
      },
      "execution_count": null,
      "outputs": []
    },
    {
      "cell_type": "markdown",
      "source": [
        "## 認識 gr.ChatInterface()"
      ],
      "metadata": {
        "id": "vaogeIViU-ez"
      }
    },
    {
      "cell_type": "markdown",
      "source": [
        "1. 高階抽象，一行程式碼打造聊天機器人\n",
        "gr.ChatInterface() 是 Gradio 提供的高階工具，能讓你用最少的 Python 程式碼建立一個全功能的對話介面。它可輕易擴充至支援多模態（multimodal）聊天機器人，或在更複雜的需求下進行自訂化。\n",
        "\n",
        "- message：使用者當前輸入的文字（str）\n",
        "- history：過往聊天歷史（list），包含 role 與 content 等欄位，可能還包含其他自訂鍵值對\n",
        "一個典型的 history 會長這樣：\n",
        "\n",
        "```python\n",
        "[\n",
        "    {\"role\": \"user\", \"content\": \"What is the capital of France?\"},\n",
        "    {\"role\": \"assistant\", \"content\": \"Paris\"}\n",
        "]\n",
        "```\n",
        "你的 Chatbot 只需要回傳一個 str，表示基於這些對話內容所生成的回應。"
      ],
      "metadata": {
        "id": "D6CFQfkDVChl"
      }
    },
    {
      "cell_type": "markdown",
      "source": [
        "## 定義聊天函式"
      ],
      "metadata": {
        "id": "LiKwx6k-VJjM"
      }
    },
    {
      "cell_type": "markdown",
      "source": [
        "### 範例 1：隨機回應「Yes」或「No」\n",
        "\n",
        "以下為最基本的聊天函式，它不會參考使用者輸入或對話歷史，只是隨機回應「Yes」或「No」：\n",
        "\n",
        "```python\n",
        "import random\n",
        "def random_response(message, history):\n",
        "    return random.choice([\"Yes\", \"No\"])\n",
        "```\n",
        "\n",
        "接著，我們只需將此函式與 gr.ChatInterface() 綁定，並設定 type=\"messages\"（強烈建議這麼做），就能立即執行：\n",
        "\n",
        "```python\n",
        "import gradio as gr\n",
        "\n",
        "gr.ChatInterface(\n",
        "    fn=random_response,\n",
        "    type=\"messages\"\n",
        ").launch()\n",
        "```\n",
        "\n"
      ],
      "metadata": {
        "id": "07KFZzjDVOIg"
      }
    },
    {
      "cell_type": "markdown",
      "source": [
        "###範例 2：依序「同意」或「不同意」的簡單邏輯\n",
        "\n",
        "稍微進階一點的例子：根據先前對話中機器人回應的次數，交替回傳「Yes...」或「I don't think so」。\n",
        "\n",
        "```python\n",
        "import gradio as gr\n",
        "\n",
        "def alternatingly_agree(message, history):\n",
        "    # 計算助理出現的次數，來判斷要「同意」或「不同意」\n",
        "    if len([h for h in history if h['role'] == \"assistant\"]) % 2 == 0:\n",
        "        return f\"Yes, I do think that: {message}\"\n",
        "    else:\n",
        "        return \"I don't think so\"\n",
        "\n",
        "gr.ChatInterface(\n",
        "    fn=alternatingly_agree,\n",
        "    type=\"messages\"\n",
        ").launch()\n",
        "```"
      ],
      "metadata": {
        "id": "pmhNMdVLVcDB"
      }
    },
    {
      "cell_type": "markdown",
      "source": [
        "###串流（Streaming）聊天機器人\n",
        "\n",
        "若想要看到「字逐字顯示」的效果，可以利用 yield 回傳一連串局部回應，每個新的回應會覆蓋掉先前的訊息，達到串流效果。範例如下：\n",
        "\n",
        "\n",
        "```python\n",
        "import time\n",
        "import gradio as gr\n",
        "\n",
        "def slow_echo(message, history):\n",
        "    for i in range(len(message)):\n",
        "        time.sleep(0.3)\n",
        "        yield \"You typed: \" + message[: i+1]\n",
        "\n",
        "gr.ChatInterface(\n",
        "    fn=slow_echo,\n",
        "    type=\"messages\"\n",
        ").launch()\n",
        "```\n",
        "\n",
        "當使用者點擊「Submit」後，按鈕會變成「Stop」，可隨時停止串流輸出。"
      ],
      "metadata": {
        "id": "0NlOB961Vmna"
      }
    },
    {
      "cell_type": "markdown",
      "source": [
        "### 額外的輸入 (Additional Inputs)\n",
        "\n",
        "有時候你需要 Chatbot 以外的其他輸入，如「系統提示」（system prompt）或「回應長度控制」等，可以透過 additional_inputs 參數達成。此參數可接受單一元件或多個元件的清單。\n",
        "\n",
        "```python\n",
        "import gradio as gr\n",
        "import time\n",
        "\n",
        "def echo(message, history, system_prompt, tokens):\n",
        "    response = f\"System prompt: {system_prompt}\\nMessage: {message}.\"\n",
        "    for i in range(min(len(response), int(tokens))):\n",
        "        time.sleep(0.05)\n",
        "        yield response[: i + 1]\n",
        "\n",
        "demo = gr.ChatInterface(\n",
        "    echo,\n",
        "    type=\"messages\",\n",
        "    additional_inputs=[\n",
        "        gr.Textbox(\"You are helpful AI.\", label=\"System Prompt\"),\n",
        "        gr.Slider(10, 100),\n",
        "    ],\n",
        ")\n",
        "\n",
        "demo.launch()\n",
        "\n",
        "```"
      ],
      "metadata": {
        "id": "khzPBeA5WUJa"
      }
    },
    {
      "cell_type": "markdown",
      "source": [
        "###預設回覆（Preset Responses）\n",
        "\n",
        "想在對話回應中提供「選項按鈕」？可於回傳字典中加入 options，例如：\n",
        "\n",
        "```python\n",
        "import gradio as gr\n",
        "\n",
        "example_code = '''\n",
        "Here's the code I generated:\n",
        "\n",
        "def greet(x):\n",
        "    return f\"Hello, {x}!\"\n",
        "\n",
        "Is this correct?\n",
        "'''\n",
        "\n",
        "def chat(message, history):\n",
        "    if message == \"Yes, that's correct.\":\n",
        "        return \"Great!\"\n",
        "    else:\n",
        "        return {\n",
        "            \"role\": \"assistant\",\n",
        "            \"content\": example_code,\n",
        "            \"options\": [\n",
        "                {\"value\": \"Yes, that's correct.\", \"label\": \"Yes\"},\n",
        "                {\"value\": \"No\"}\n",
        "            ]\n",
        "        }\n",
        "\n",
        "demo = gr.ChatInterface(\n",
        "    chat,\n",
        "    type=\"messages\",\n",
        "    examples=[\"Write a Python function that takes a string and returns a greeting.\"]\n",
        ")\n",
        "\n",
        "if __name__ == \"__main__\":\n",
        "    demo.launch()\n",
        "\n",
        "```"
      ],
      "metadata": {
        "id": "nm25A2XpWcwr"
      }
    },
    {
      "cell_type": "markdown",
      "source": [
        "## 總結\n",
        "透過 gr.ChatInterface()，你能在極短的時間內建立一個功能完備的聊天機器人，並根據需求輕鬆地：\n",
        "\n",
        "串接多模態功能，允許文字、圖片、音訊等多種形式的輸入\n",
        "增加額外的輸入輸出，如「系統提示」、「程式碼區塊」或「滑桿參數」\n",
        "客製化介面、增加範例按鈕或預設回覆選單\n",
        "以串流方式呈現回應，提供更逼真的對話體驗\n",
        "不論你是想製作簡單的示範原型，還是部署複雜的企業級應用，Gradio 都能協助你快速上手，並提供高度可擴充的客製化能力，將 LLM 潛能充分展現給使用者。"
      ],
      "metadata": {
        "id": "LGtJI2a8Wmyb"
      }
    },
    {
      "cell_type": "code",
      "source": [],
      "metadata": {
        "id": "n-jpeA_8WoOp"
      },
      "execution_count": null,
      "outputs": []
    },
    {
      "cell_type": "markdown",
      "source": [
        "# 練習題：為 Chatbot 加入「系統提示」與「字數限制」的額外輸入\n",
        "\n",
        "### **題目描述**\n",
        "請嘗試在原有的 Chatbot 基礎上，新增兩個額外輸入：\n",
        "1. 一個 `Textbox` 作為「系統提示」（System Prompt），此文字內容會影響整體對話風格或角色設定。  \n",
        "2. 一個 `Slider` 用來控制 Chatbot 回應的最大字數（或 Token 數）。\n",
        "\n",
        "建立此多輸入 Chatbot 時，請參考上方材料或自行翻閱 Gradio 文件中的 `additional_inputs` 章節，並設計一個函式能夠在產生回應時依照使用者的「系統提示」與「字數限制」執行。\n",
        "\n",
        "### **情境**\n",
        "想像你在開發一個專業諮詢聊天機器人，你需要在每次對話前指定諮詢領域或角色（例如：心理諮商師、理財顧問、健身教練），同時希望能在系統內控管回應長度，避免過度冗長或不符合風格。這時就可以利用「額外輸入」的概念為 Chatbot 添加更多動態參數。\n",
        "\n",
        "### **解答 (範例)**\n",
        "```python\n",
        "import gradio as gr\n",
        "import time\n",
        "\n",
        "def role_based_responder(message, history, role_prompt, max_length):\n",
        "    \"\"\"\n",
        "    - message: 使用者輸入的文字\n",
        "    - history: 過往對話紀錄\n",
        "    - role_prompt: 系統提示，決定 Chatbot 的角色或風格\n",
        "    - max_length: 回應的最大字數\n",
        "    \"\"\"\n",
        "    # 將系統提示與使用者訊息整合，形成 Chatbot 回應的基礎\n",
        "    combined_prompt = f\"【系統提示】{role_prompt}\\n【使用者訊息】{message}\\n\"\n",
        "    \n",
        "    # 建立一個假設的回應（在真實情況中可串接 LLM API）\n",
        "    full_response = f\"你好！我是你設定的角色：{role_prompt}\\n關於你的問題：{message}\\n以下是我的建議...\"\n",
        "\n",
        "    # 使用 yield 做串流回應，並根據 max_length 控制輸出長度\n",
        "    truncated_response = full_response[:int(max_length)]\n",
        "    for i in range(len(truncated_response)):\n",
        "        time.sleep(0.05)  # 模擬模型思考時間\n",
        "        yield truncated_response[:i+1]\n",
        "\n",
        "demo = gr.ChatInterface(\n",
        "    fn=role_based_responder,\n",
        "    type=\"messages\",\n",
        "    additional_inputs=[\n",
        "        gr.Textbox(\n",
        "            value=\"請扮演一位溫暖且耐心的心理諮商師\",\n",
        "            label=\"系統提示 (Role Prompt)\"\n",
        "        ),\n",
        "        gr.Slider(10, 200, step=10, value=100, label=\"回應字數上限 (Max Length)\")\n",
        "    ],\n",
        "    title=\"角色扮演與字數控制 Chatbot\",\n",
        "    description=\"依照系統提示扮演不同角色，並用滑桿控制回應字數長度\"\n",
        ")\n",
        "\n",
        "demo.launch()\n",
        "```\n",
        "\n",
        "> **完整要求**：\n",
        "> 1. 建立一個具備兩個額外輸入的 Chatbot：  \n",
        ">   - `Textbox`：擔任「系統提示」，可以讓使用者修改角色設定。  \n",
        ">   - `Slider`：控制最大回應字數（或 Token 數）。  \n",
        "> 2. 在回應函式中，需同時讀取文字輸入、系統提示，以及對話紀錄（`history`）。  \n",
        "> 3. 以串流（`yield`）方式回傳 Chatbot 的回答，確保每次輸出的累積不超過 `max_length`。  \n",
        "> 4. 在界面上提供標題與描述，協助使用者理解該 Chatbot 的用途。  \n",
        "> 5. 若有疑問，請回頭查看上方材料關於 `additional_inputs` 與串流機制（Streaming）的說明，或參考 Gradio 官方文件。\n",
        "```"
      ],
      "metadata": {
        "id": "tr9JIYpKXdoO"
      }
    },
    {
      "cell_type": "code",
      "source": [],
      "metadata": {
        "id": "tlVebFF5XkTy"
      },
      "execution_count": null,
      "outputs": []
    }
  ]
}