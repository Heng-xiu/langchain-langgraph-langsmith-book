{
 "cells": [
  {
   "cell_type": "markdown",
   "id": "4897c559",
   "metadata": {},
   "source": [
    "# 用 Map-Reduce 摘要長篇小說\n",
    "在這個範例中，我們將示範如何使用 LangChain，對一份長文件進行 Map-Reduce 摘要。"
   ]
  },
  {
   "cell_type": "markdown",
   "id": "47fb52c2",
   "metadata": {},
   "source": [
    "## 建立環境與安裝套件"
   ]
  },
  {
   "cell_type": "code",
   "execution_count": null,
   "id": "04d4bb47",
   "metadata": {
    "vscode": {
     "languageId": "plaintext"
    }
   },
   "outputs": [],
   "source": [
    "# 安裝必要套件\n",
    "!pip install langgraph openai"
   ]
  },
  {
   "cell_type": "markdown",
   "id": "7647c7ff",
   "metadata": {},
   "source": [
    "## 策略ㄧ、分而治之"
   ]
  },
  {
   "cell_type": "markdown",
   "id": "73a6fc60",
   "metadata": {},
   "source": [
    "### 第一步、建立環境與安裝套件"
   ]
  },
  {
   "cell_type": "code",
   "execution_count": null,
   "id": "fbe8d2ac",
   "metadata": {
    "vscode": {
     "languageId": "plaintext"
    }
   },
   "outputs": [],
   "source": [
    "from langchain_openai import ChatOpenAI\n",
    "from langchain.chains.summarize import load_summarize_chain\n",
    "from langchain.text_splitter import TokenTextSplitter\n",
    "\n",
    "# 假設我們使用的是 GPT-3.5，其視窗較小\n",
    "llm = ChatOpenAI(model=\"gpt-3.5-turbo\", temperature=0)\n",
    "\n",
    "# 讀取你的文本文件\n",
    "with open(\"./your_long_book.txt\", \"r\", encoding='utf-8') as f:\n",
    "  book_raw_data = f.read()\n",
    "\n",
    "# 建立文本分割器\n",
    "# chunk_size: 設定每個區塊的大小為 3000 tokens\n",
    "# chunk_overlap: 設定區塊之間重疊 100 tokens，這就像翻頁時會多看一眼前一頁的最後一行，確保語意連貫\n",
    "text_splitter = TokenTextSplitter(chunk_size=3000, chunk_overlap=100)\n",
    "docs = text_splitter.create_documents([book_raw_data])\n",
    "\n",
    "# 現在 `docs` 是一個包含多個小文本區塊的清單\n",
    "print(f\"文件被分割成了 {len(docs)} 個區塊。\")"
   ]
  },
  {
   "cell_type": "markdown",
   "id": "4c96b921",
   "metadata": {},
   "source": [
    "## 第二步：準備與分割文件\n",
    "\n",
    "延續「台灣夜市文化」的例子，實際操作如何從維基百科、PDF 研究報告、Word 文件等多種來源，產出一份高品質的整合報告。"
   ]
  },
  {
   "cell_type": "code",
   "execution_count": null,
   "id": "1fb3fafc",
   "metadata": {
    "vscode": {
     "languageId": "plaintext"
    }
   },
   "outputs": [],
   "source": [
    "# 建立 Map-Reduce 摘要鏈\n",
    "# LangChain 會自動處理 Map 和 Reduce 兩個階段\n",
    "map_reduce_chain = load_summarize_chain(\n",
    "    llm=llm,\n",
    "    chain_type=\"map_reduce\",\n",
    "    # verbose=True 可以讓你看到每一步的詳細過程與 Prompt\n",
    "    verbose=True\n",
    ")\n",
    "\n",
    "# 執行摘要鏈\n",
    "final_summary = map_reduce_chain.invoke({\"input_documents\": docs})\n",
    "\n",
    "print(\"\\n---最終摘要---\")\n",
    "print(final_summary['output_text'])"
   ]
  },
  {
   "cell_type": "markdown",
   "id": "24f67970",
   "metadata": {},
   "source": [
    "## 策略二、層層迭代"
   ]
  },
  {
   "cell_type": "markdown",
   "id": "1cb27ced",
   "metadata": {},
   "source": [
    "### 第一步、載入不同來源的文件"
   ]
  },
  {
   "cell_type": "code",
   "execution_count": null,
   "id": "142ead7a",
   "metadata": {
    "vscode": {
     "languageId": "plaintext"
    }
   },
   "outputs": [],
   "source": [
    "1.\tfrom langchain_community.document_loaders import WikipediaLoader, PyPDFLoader, Docx2txtLoader\n",
    "2.\t\n",
    "3.\t# 1. 從維基百科載入資料\n",
    "4.\twiki_loader = WikipediaLoader(query=\"台灣夜市\", load_max_docs=1, lang=\"zh\")\n",
    "5.\twiki_docs = wiki_loader.load()\n",
    "6.\t\n",
    "7.\t# 2. 從本地 PDF 檔案載入\n",
    "8.\tpdf_loader = PyPDFLoader(\"./data/tourism_report.pdf\")\n",
    "9.\tpdf_docs = pdf_loader.load()\n",
    "10.\t\n",
    "11.\t# 3. 從本地 Word 檔案載入\n",
    "12.\tword_loader = Docx2txtLoader(\"./data/cultural_essay.docx\")\n",
    "13.\tword_docs = word_loader.load()\n",
    "14.\t\n",
    "15.\t# 將所有來源的文件整合成一個清單\n",
    "16.\tall_docs = wiki_docs + pdf_docs + word_docs\n",
    "17.\tprint(f\"總共載入了 {len(all_docs)} 份文件區塊。\")\n"
   ]
  },
  {
   "cell_type": "code",
   "execution_count": null,
   "id": "fced2952",
   "metadata": {
    "vscode": {
     "languageId": "plaintext"
    }
   },
   "outputs": [],
   "source": [
    "### 第二步、定義 Refine Chain"
   ]
  },
  {
   "cell_type": "code",
   "execution_count": null,
   "id": "c881bc40",
   "metadata": {
    "vscode": {
     "languageId": "plaintext"
    }
   },
   "outputs": [],
   "source": [
    "# 建立 Refine 摘要鏈\n",
    "# LangChain 會自動處理初步摘要和後續的 Refine 步驟\n",
    "refine_chain = load_summarize_chain(\n",
    "    llm=llm,\n",
    "    chain_type=\"refine\",\n",
    "    # return_intermediate_steps=True 可以讓我們看到每一次迭代中間產生的摘要\n",
    "    return_intermediate_steps=True,\n",
    "    verbose=True\n",
    ")\n",
    "\n",
    "# 執行摘要鏈\n",
    "refine_summary = refine_chain.invoke({\"input_documents\": all_docs})\n",
    "\n",
    "print(\"\\n---每一次的迭代摘要---\")\n",
    "for i, step in enumerate(refine_summary[\"intermediate_steps\"]):\n",
    "    print(f\"第 {i+1} 步摘要: {step}\\n\")\n",
    "\n",
    "print(\"\\n---最終完善摘要---\")\n",
    "print(refine_summary['output_text'])\n"
   ]
  }
 ],
 "metadata": {
  "language_info": {
   "name": "python"
  }
 },
 "nbformat": 4,
 "nbformat_minor": 5
}
