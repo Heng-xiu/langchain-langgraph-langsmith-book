{
 "cells": [
  {
   "cell_type": "markdown",
   "id": "85bcb1e2",
   "metadata": {},
   "source": [
    "# 首先，請先安裝必要的套件："
   ]
  },
  {
   "cell_type": "code",
   "execution_count": null,
   "id": "4d00b5bd",
   "metadata": {
    "vscode": {
     "languageId": "plaintext"
    }
   },
   "outputs": [],
   "source": [
    "!pip install langgraph openai"
   ]
  },
  {
   "cell_type": "markdown",
   "id": "ac490626",
   "metadata": {},
   "source": [
    "# 構建我們的 LangGraph 工作流程。"
   ]
  },
  {
   "cell_type": "code",
   "execution_count": null,
   "id": "8e0d20d7",
   "metadata": {
    "vscode": {
     "languageId": "plaintext"
    }
   },
   "outputs": [],
   "source": [
    "# 1. 導入必要的模組與套件\n",
    "from langgraph.graph import StateGraph, END\n",
    "from dataclasses import dataclass\n",
    "from typing import Dict\n",
    "from openai import OpenAI\n",
    "import os"
   ]
  },
  {
   "cell_type": "code",
   "execution_count": null,
   "id": "e21c4162",
   "metadata": {
    "vscode": {
     "languageId": "plaintext"
    }
   },
   "outputs": [],
   "source": [
    "# 2. 定義「狀態（State）」結構：AI的記憶體\n",
    "@dataclass\n",
    "class ReflectionState:\n",
    "    draft: str # 原始草稿\n",
    "    email: str = \"\" # 正在處理的郵件內容\n",
    "    feedback: str = \"\" # 反思節點給出的改進建議\n",
    "    has_issue: bool = False # 判斷是否有問題需要修正"
   ]
  },
  {
   "cell_type": "code",
   "execution_count": null,
   "id": "82f5ba38",
   "metadata": {
    "vscode": {
     "languageId": "plaintext"
    }
   },
   "outputs": [],
   "source": [
    "# 3. 初始化 OpenAI 客戶端\n",
    "client = OpenAI(api_key=os.environ.get(\"OPENAI_API_KEY\"))"
   ]
  },
  {
   "cell_type": "code",
   "execution_count": null,
   "id": "b1cbd7e7",
   "metadata": {
    "vscode": {
     "languageId": "plaintext"
    }
   },
   "outputs": [],
   "source": [
    "# 4. 定義「節點（Nodes）」：AI執行的任務\n",
    "def llm_call(prompt: str, max_tokens: int = 200) -> str:\n",
    "    # 這是實際呼叫 OpenAI 模型的函式\n",
    "    response = client.chat.completions.create(\n",
    "        model=\"gpt-3.5-turbo\",\n",
    "        messages=[{\"role\": \"user\", \"content\": prompt}],\n",
    "        max_tokens=max_tokens\n",
    "    )\n",
    "    return response.choices[0].message.content.strip()\n",
    "\n",
    "def generate_node(state: ReflectionState) -> Dict:\n",
    "    \"\"\"生成節點：改寫郵件草稿為專業語氣\"\"\"\n",
    "    prompt = f\"將以下電子郵件草稿改為專業語氣：\\n{state.draft}\"\n",
    "    email_draft = llm_call(prompt)\n",
    "    \n",
    "    # 更新狀態：將初稿存入 email\n",
    "    state.email = email_draft\n",
    "    return {\"email\": state.email}\n",
    "\n",
    "def reflect_node(state: ReflectionState) -> Dict:\n",
    "    \"\"\"反思節點：檢查語氣與結構，並給予建議\"\"\"\n",
    "    prompt = f\"檢查以下電子郵件是否存在語氣或結構問題：\\n{state.email}\\n若有問題，回覆具體建議；若無，回覆'無問題'\"\n",
    "    feedback_text = llm_call(prompt)\n",
    "    \n",
    "    # 判斷是否有問題\n",
    "    has_issue = \"無問題\" not in feedback_text\n",
    "    \n",
    "    # 更新狀態\n",
    "    state.feedback = feedback_text\n",
    "    state.has_issue = has_issue\n",
    "    return {\"feedback\": state.feedback, \"has_issue\": state.has_issue}\n",
    "\n",
    "def update_node(state: ReflectionState) -> Dict:\n",
    "    \"\"\"更新節點：根據反饋修正郵件\"\"\"\n",
    "    prompt = f\"基於以下建議修正電子郵件：\\n建議：{state.feedback}\\n原始郵件：\\n{state.email}\"\n",
    "    updated_email = llm_call(prompt)\n",
    "    \n",
    "    # 更新狀態\n",
    "    state.email = updated_email\n",
    "    return {\"email\": state.email}"
   ]
  },
  {
   "cell_type": "code",
   "execution_count": null,
   "id": "bec7fa17",
   "metadata": {
    "vscode": {
     "languageId": "plaintext"
    }
   },
   "outputs": [],
   "source": [
    "# 5. 構建「圖（Graph）」與「邊（Edges）」：這是AI的工作流程\n",
    "workflow = StateGraph(ReflectionState)\n",
    "\n",
    "# 新增節點到工作流程中\n",
    "workflow.add_node(\"generate\", generate_node)\n",
    "workflow.add_node(\"reflect\", reflect_node)\n",
    "workflow.add_node(\"update\", update_node)\n",
    "\n",
    "# 設定進入點\n",
    "workflow.set_entry_point(\"generate\")\n",
    "\n",
    "# 無條件邊：從 \"generate\" 到 \"reflect\"\n",
    "workflow.add_edge(\"generate\", \"reflect\")\n",
    "\n",
    "# 條件邊：從 \"reflect\" 節點根據是否有問題來決定下一步\n",
    "workflow.add_conditional_edges(\n",
    "    \"reflect\",\n",
    "    # 判斷函數：如果有問題，進入 \"update\"，否則結束\n",
    "    lambda state: \"update\" if state.has_issue else \"end\",\n",
    "    {\"update\": \"update\", \"end\": END}\n",
    ")\n",
    "\n",
    "# 無條件邊：從 \"update\" 到 \"reflect\"，進行新一輪的檢查\n",
    "workflow.add_edge(\"update\", \"reflect\")\n",
    "\n",
    "# 編譯工作流程，準備執行\n",
    "graph = workflow.compile()\n"
   ]
  },
  {
   "cell_type": "markdown",
   "id": "281c8e61",
   "metadata": {},
   "source": [
    "# 執行範例與成果展示"
   ]
  },
  {
   "cell_type": "code",
   "execution_count": null,
   "id": "f3d7f063",
   "metadata": {
    "vscode": {
     "languageId": "plaintext"
    }
   },
   "outputs": [],
   "source": [
    "# 執行範例\n",
    "result = graph.invoke(ReflectionState(draft=\"嗨，明天可以開會嗎？\"))\n",
    "\n",
    "print(f\"最終郵件：\\n{result['email']}\")\n",
    "print(f\"\\n反饋紀錄：{result['feedback']}\")\n"
   ]
  }
 ],
 "metadata": {
  "language_info": {
   "name": "python"
  }
 },
 "nbformat": 4,
 "nbformat_minor": 5
}
