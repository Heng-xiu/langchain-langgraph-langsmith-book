{
 "cells": [
  {
   "cell_type": "code",
   "execution_count": null,
   "id": "e0152ab5",
   "metadata": {
    "vscode": {
     "languageId": "plaintext"
    }
   },
   "outputs": [],
   "source": [
    "# 安裝必要套件\n",
    "!pip install langgraph openai\n"
   ]
  },
  {
   "cell_type": "code",
   "execution_count": null,
   "id": "8a834717",
   "metadata": {
    "vscode": {
     "languageId": "plaintext"
    }
   },
   "outputs": [],
   "source": [
    "# 導入模組\n",
    "from langgraph.graph import StateGraph, END\n",
    "from dataclasses import dataclass\n",
    "from typing import Dict\n",
    "from openai import OpenAI\n",
    "from google.colab import userdata\n",
    "\n",
    "# 定義狀態結構\n",
    "@dataclass\n",
    "class ReflectionState:\n",
    "    input: str\n",
    "    eng: str\n",
    "    jpn: str\n",
    "    kor: str\n",
    "    feedback: str = \"\"\n",
    "    has_issue: bool = False\n",
    "\n",
    "# 初始化OpenAI客戶端\n",
    "client = OpenAI(api_key=userdata.get('OPENAI_API_KEY'))  # 替換為您的API金鑰\n",
    "\n",
    "# 語言模型調用函數\n",
    "def llm_call(prompt: str, max_tokens: int = 200) -> str:\n",
    "    response = client.chat.completions.create(\n",
    "        model=\"gpt-3.5-turbo\",\n",
    "        messages=[{\"role\": \"user\", \"content\": prompt}],\n",
    "        max_tokens=max_tokens\n",
    "    )\n",
    "    return response.choices[0].message.content.strip()\n",
    "\n",
    "# 反思節點：檢查語義一致性\n",
    "def reflect_node(state: ReflectionState) -> Dict:\n",
    "    prompt = f\"檢查以下翻譯是否語義一致：\\n中文：{state.input}\\n英文：{state.eng}\\n日語：{state.jpn}\\n韓語：{state.kor}\\n若有問題，回覆具體建議；若無，回覆'無問題'\"\n",
    "    state.feedback = llm_call(prompt)\n",
    "    state.has_issue = \"無問題\" not in state.feedback\n",
    "    return {\"feedback\": state.feedback, \"has_issue\": state.has_issue}\n",
    "\n",
    "# 更新節點：修正翻譯偏差\n",
    "def update_node(state: ReflectionState) -> Dict:\n",
    "    prompt = f\"根據建議修正翻譯：\\n建議：{state.feedback}\\n原文：{state.input}\\n當前：英文-{state.eng}，日語-{state.jpn}，韓語-{state.kor}\\n回覆格式：英文;日語;韓語\"\n",
    "    response = llm_call(prompt)\n",
    "    try:\n",
    "        eng, jpn, kor = response.split(\";\")\n",
    "        return {\"eng\": eng.strip(), \"jpn\": jpn.strip(), \"kor\": kor.strip()}\n",
    "    except ValueError:\n",
    "        return {\"eng\": state.eng, \"jpn\": state.jpn, \"kor\": state.kor}  # 防止格式錯誤\n",
    "\n",
    "# 構建工作流程\n",
    "workflow = StateGraph(ReflectionState)\n",
    "workflow.add_node(\"reflect\", reflect_node)\n",
    "workflow.add_node(\"update\", update_node)\n",
    "workflow.set_entry_point(\"reflect\")\n",
    "workflow.add_conditional_edges(\n",
    "    \"reflect\",\n",
    "    lambda state: \"update\" if state.has_issue else \"end\",\n",
    "    {\"update\": \"update\", \"end\": END}\n",
    ")\n",
    "workflow.add_edge(\"update\", \"reflect\")\n",
    "graph = workflow.compile()\n",
    "\n",
    "# 執行範例\n",
    "result = graph.invoke(ReflectionState(\n",
    "    input=\"人工智慧改變未來\",\n",
    "    eng=\"AI changes the future\",  # 故意設為不準確\n",
    "    jpn=\"人工知能が未来を変える\",\n",
    "    kor=\"인공지능이 미래를 바꾼다\"\n",
    "))\n",
    "print(f\"最終翻譯：\\n英文：{result['eng']}\\n日語：{result['jpn']}\\n韓語：{result['kor']}\")\n",
    "print(f\"反饋：{result['feedback']}\")"
   ]
  }
 ],
 "metadata": {
  "language_info": {
   "name": "python"
  }
 },
 "nbformat": 4,
 "nbformat_minor": 5
}
