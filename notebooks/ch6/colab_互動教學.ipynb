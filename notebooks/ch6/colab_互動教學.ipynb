{
 "cells": [
  {
   "cell_type": "code",
   "execution_count": null,
   "id": "f36a2193",
   "metadata": {
    "vscode": {
     "languageId": "plaintext"
    }
   },
   "outputs": [],
   "source": [
    "a =10\n",
    "a"
   ]
  },
  {
   "cell_type": "markdown",
   "id": "6675e7c2",
   "metadata": {},
   "source": [
    "這是一個文字單元格，支援 粗體、_斜體_、以及 LaTeX 語法，例如："
   ]
  },
  {
   "cell_type": "code",
   "execution_count": null,
   "id": "09fe1fd3",
   "metadata": {
    "vscode": {
     "languageId": "plaintext"
    }
   },
   "outputs": [],
   "source": [
    "$\\sqrt{3x-1}+(1+x)^2$"
   ]
  },
  {
   "cell_type": "markdown",
   "id": "9203bdf2",
   "metadata": {},
   "source": [
    "中斷執行"
   ]
  },
  {
   "cell_type": "code",
   "execution_count": null,
   "id": "f237e5f1",
   "metadata": {
    "vscode": {
     "languageId": "plaintext"
    }
   },
   "outputs": [],
   "source": [
    "import time\n",
    "\n",
    "print(\"Sleeping\")\n",
    "time.sleep(30)  # 中斷我！\n",
    "print(\"Done Sleeping\")\n"
   ]
  },
  {
   "cell_type": "markdown",
   "id": "e4744810",
   "metadata": {},
   "source": [
    "執行 linux 指令"
   ]
  },
  {
   "cell_type": "code",
   "execution_count": null,
   "id": "1c72ea85",
   "metadata": {
    "vscode": {
     "languageId": "plaintext"
    }
   },
   "outputs": [],
   "source": [
    "!ls /bin"
   ]
  },
  {
   "cell_type": "markdown",
   "id": "abc02973",
   "metadata": {},
   "source": [
    "魔法指令"
   ]
  },
  {
   "cell_type": "code",
   "execution_count": null,
   "id": "f9334a0e",
   "metadata": {
    "vscode": {
     "languageId": "plaintext"
    }
   },
   "outputs": [],
   "source": [
    "# %%html\n",
    "# <marquee style='width: 30%; color: blue;'><b>Whee!</b></marquee>"
   ]
  },
  {
   "cell_type": "markdown",
   "id": "fb43d460",
   "metadata": {},
   "source": [
    "自動補全"
   ]
  },
  {
   "cell_type": "code",
   "execution_count": null,
   "id": "c5092a9b",
   "metadata": {
    "vscode": {
     "languageId": "plaintext"
    }
   },
   "outputs": [],
   "source": [
    "import numpy as np\n",
    "np.  # 按下句點後，再按 Ctrl+Space"
   ]
  },
  {
   "cell_type": "markdown",
   "id": "fba75144",
   "metadata": {},
   "source": [
    "異常合格式"
   ]
  },
  {
   "cell_type": "code",
   "execution_count": null,
   "id": "86e764e8",
   "metadata": {
    "vscode": {
     "languageId": "plaintext"
    }
   },
   "outputs": [],
   "source": [
    "x = 1\n",
    "y = 4\n",
    "z = y / (1 - x)"
   ]
  },
  {
   "cell_type": "markdown",
   "id": "c574d453",
   "metadata": {},
   "source": [
    "豐富的互動輸出"
   ]
  },
  {
   "cell_type": "code",
   "execution_count": null,
   "id": "df7e25e1",
   "metadata": {
    "vscode": {
     "languageId": "plaintext"
    }
   },
   "outputs": [],
   "source": [
    "import numpy as np\n",
    "from matplotlib import pyplot as plt\n",
    "\n",
    "ys = 200 + np.random.randn(100)\n",
    "x = list(range(len(ys)))\n",
    "plt.plot(x, ys, '-')\n",
    "plt.fill_between(x, ys, 195, where=(ys > 195), facecolor='g', alpha=0.6)\n",
    "plt.title(\"填色與透明度範例\")\n",
    "plt.show()\n"
   ]
  }
 ],
 "metadata": {
  "language_info": {
   "name": "python"
  }
 },
 "nbformat": 4,
 "nbformat_minor": 5
}
