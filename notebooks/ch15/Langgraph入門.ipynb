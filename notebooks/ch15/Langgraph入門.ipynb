{
 "cells": [
  {
   "cell_type": "markdown",
   "id": "dfb5d976",
   "metadata": {},
   "source": [
    "## 首先，請先安裝必要的套件："
   ]
  },
  {
   "cell_type": "code",
   "execution_count": null,
   "id": "f499170a",
   "metadata": {
    "vscode": {
     "languageId": "plaintext"
    }
   },
   "outputs": [],
   "source": [
    "!pip install langgraph openai"
   ]
  },
  {
   "cell_type": "markdown",
   "id": "38b48adf",
   "metadata": {},
   "source": [
    "## 構建我們的 LangGraph 工作流程。"
   ]
  },
  {
   "cell_type": "code",
   "execution_count": null,
   "id": "8263ed7e",
   "metadata": {
    "vscode": {
     "languageId": "plaintext"
    }
   },
   "outputs": [],
   "source": [
    "# 1. 導入必要的模組與套件\n",
    "from langgraph.graph import StateGraph, END\n",
    "from dataclasses import dataclass\n",
    "from typing import Dict\n",
    "from openai import OpenAI\n",
    "import os"
   ]
  },
  {
   "cell_type": "code",
   "execution_count": null,
   "id": "684ff817",
   "metadata": {
    "vscode": {
     "languageId": "plaintext"
    }
   },
   "outputs": [],
   "source": [
    "# 2. 定義「狀態（State）」結構：這是我們AI的記憶體\n",
    "@dataclass\n",
    "class ReActState:\n",
    "    input: str\n",
    "    history: list\n",
    "    result: str = \"\"\n",
    "    iteration: int = 0"
   ]
  },
  {
   "cell_type": "code",
   "execution_count": null,
   "id": "995a5b89",
   "metadata": {
    "vscode": {
     "languageId": "plaintext"
    }
   },
   "outputs": [],
   "source": [
    "# 3. 初始化 OpenAI 客戶端 (請先設定好你的環境變數 OPENAI_API_KEY)\n",
    "client = OpenAI(api_key=os.environ.get(\"OPENAI_API_KEY\"))"
   ]
  },
  {
   "cell_type": "code",
   "execution_count": null,
   "id": "6e7b73d2",
   "metadata": {
    "vscode": {
     "languageId": "plaintext"
    }
   },
   "outputs": [],
   "source": [
    "# 4. 定義「節點（Nodes）」：這是AI執行的任務\n",
    "def llm_call(prompt: str, max_tokens: int = 100) -> str:\n",
    "    # 這是實際呼叫 OpenAI 模型的函式\n",
    "    response = client.chat.completions.create(\n",
    "        model=\"gpt-3.5-turbo\",\n",
    "        messages=[{\"role\": \"user\", \"content\": prompt}],\n",
    "        max_tokens=max_tokens\n",
    "    )\n",
    "    return response.choices[0].message.content.strip()\n",
    "\n",
    "def generate_node(state: ReActState) -> Dict:\n",
    "    \"\"\"生成節點：負責將內容轉為正式用語\"\"\"\n",
    "    # 這裡可以根據歷史記錄來優化提示\n",
    "    prompt = f\"請將以下內容轉為專業的會議記錄格式：\\n{state.input}\\n\\n參考歷史紀錄來優化：{state.history}\"\n",
    "    generated_text = llm_call(prompt)\n",
    "    \n",
    "    # 更新狀態：儲存這次的生成結果與歷史\n",
    "    state.result = generated_text\n",
    "    state.history.append(f\"第 {state.iteration + 1} 次生成：{generated_text}\")\n",
    "    return {\"result\": generated_text, \"history\": state.history}\n",
    "\n",
    "def check_node(state: ReActState) -> Dict:\n",
    "    \"\"\"檢查節點：負責更新迭代次數\"\"\"\n",
    "    state.iteration += 1\n",
    "    return {\"iteration\": state.iteration}"
   ]
  },
  {
   "cell_type": "code",
   "execution_count": null,
   "id": "ce363134",
   "metadata": {
    "vscode": {
     "languageId": "plaintext"
    }
   },
   "outputs": [],
   "source": [
    "# 5. 構建「圖（Graph）」與「邊（Edges）」：這是AI的工作流程\n",
    "workflow = StateGraph(ReActState)\n",
    "\n",
    "# 新增節點到工作流程中\n",
    "workflow.add_node(\"generate\", generate_node)\n",
    "workflow.add_node(\"check\", check_node)\n",
    "\n",
    "# 設定進入點：流程從 \"generate\" 節點開始\n",
    "workflow.set_entry_point(\"generate\")\n",
    "\n",
    "# 設定邊：從 \"generate\" 節點無條件跳轉到 \"check\" 節點\n",
    "workflow.add_edge(\"generate\", \"check\")\n",
    "\n",
    "# 設定條件邊：從 \"check\" 節點根據條件跳轉\n",
    "workflow.add_conditional_edges(\n",
    "    \"check\",\n",
    "    # 判斷函數：如果迭代次數 >= 2 就結束，否則回到 \"generate\"\n",
    "    lambda state: \"end\" if state.iteration >= 2 else \"generate\",\n",
    "    {\"generate\": \"generate\", \"end\": END}\n",
    ")\n",
    "\n",
    "# 編譯工作流程，準備執行\n",
    "graph = workflow.compile()\n"
   ]
  },
  {
   "cell_type": "markdown",
   "id": "fceabc7c",
   "metadata": {},
   "source": [
    "## 執行範例與成果展示\n",
    "現在，我們只需用一個簡單的輸入來啟動這個工作流程，LangGraph 就會自動執行我們設定好的節點與邊。"
   ]
  },
  {
   "cell_type": "code",
   "execution_count": null,
   "id": "3761417a",
   "metadata": {
    "vscode": {
     "languageId": "plaintext"
    }
   },
   "outputs": [],
   "source": [
    "# 執行範例\n",
    "input_data = ReActState(input=\"會議討論了新產品發布，並探討了行銷策略。\", history=[])\n",
    "result = graph.invoke(input_data)\n",
    "\n",
    "print(f\"最終用語：{result['result']}\")\n",
    "print(f\"生成歷史：{result['history']}\")"
   ]
  }
 ],
 "metadata": {
  "language_info": {
   "name": "python"
  }
 },
 "nbformat": 4,
 "nbformat_minor": 5
}
