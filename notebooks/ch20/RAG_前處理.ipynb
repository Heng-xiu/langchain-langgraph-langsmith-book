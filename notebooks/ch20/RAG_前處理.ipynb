{
 "cells": [
  {
   "cell_type": "markdown",
   "id": "5bb693cf",
   "metadata": {},
   "source": [
    "# 環境準備與套件安裝"
   ]
  },
  {
   "cell_type": "code",
   "execution_count": null,
   "id": "3d78c450",
   "metadata": {
    "vscode": {
     "languageId": "plaintext"
    }
   },
   "outputs": [],
   "source": [
    "!pip install langchain langchain-community pypdf python-docx beautifulsoup4 requests"
   ]
  },
  {
   "cell_type": "markdown",
   "id": "b5a734b3",
   "metadata": {},
   "source": [
    "## 導入核心模組"
   ]
  },
  {
   "cell_type": "code",
   "execution_count": null,
   "id": "9a551094",
   "metadata": {
    "vscode": {
     "languageId": "plaintext"
    }
   },
   "outputs": [],
   "source": [
    "# 導入核心模組\n",
    "from langchain.document_loaders import (\n",
    "    PyPDFLoader, \n",
    "    TextLoader, \n",
    "    CSVLoader,\n",
    "    UnstructuredWordDocumentLoader,\n",
    "    WebBaseLoader\n",
    ")\n",
    "from langchain.schema import Document\n",
    "import os\n",
    "import requests\n",
    "from pathlib import Path\n",
    "\n",
    "print(\"所有必要的套件已成功安裝和導入！\")"
   ]
  },
  {
   "cell_type": "markdown",
   "id": "ece8ce0f",
   "metadata": {},
   "source": [
    "## 建立文件"
   ]
  },
  {
   "cell_type": "code",
   "execution_count": null,
   "id": "792c9ef2",
   "metadata": {
    "vscode": {
     "languageId": "plaintext"
    }
   },
   "outputs": [],
   "source": [
    "# 創建一個示例 PDF 內容（在實際應用中，您會載入真實的 PDF 檔案）\n",
    "sample_pdf_content = \"\"\"\n",
    "AI 產品開發指南\n",
    "\n",
    "第一章：人工智慧基礎\n",
    "人工智慧（Artificial Intelligence, AI）是指機器模擬人類智慧行為的能力。\n",
    "現代 AI 系統主要基於機器學習技術，特別是深度學習。\n",
    "\n",
    "第二章：產品設計原則\n",
    "在設計 AI 產品時，需要考慮以下關鍵原則：\n",
    "1. 用戶體驗優先\n",
    "2. 資料隱私保護\n",
    "3. 演算法的可解釋性\n",
    "4. 系統的可靠性和安全性\n",
    "\n",
    "第三章：開發流程\n",
    "AI 產品的開發通常包括以下階段：\n",
    "- 需求分析與可行性評估\n",
    "- 資料收集與預處理\n",
    "- 模型訓練與驗證\n",
    "- 系統整合與測試\n",
    "- 部署與監控\n",
    "\"\"\"\n",
    "\n",
    "# 將內容儲存為文字檔案（模擬 PDF 內容）\n",
    "with open(\"ai_product_guide.txt\", \"w\", encoding=\"utf-8\") as f:\n",
    "    f.write(sample_pdf_content)\n"
   ]
  },
  {
   "cell_type": "markdown",
   "id": "6ffae9a7",
   "metadata": {},
   "source": [
    "### 讀取文件"
   ]
  },
  {
   "cell_type": "code",
   "execution_count": null,
   "id": "fe8a4136",
   "metadata": {
    "vscode": {
     "languageId": "plaintext"
    }
   },
   "outputs": [],
   "source": [
    "# 使用 TextLoader 載入檔案（在實際應用中使用 PyPDFLoader）\n",
    "loader = TextLoader(\"ai_product_guide.txt\", encoding=\"utf-8\")\n",
    "documents = loader.load()\n",
    "\n",
    "print(f\"成功載入文件：{len(documents)} 個\")\n",
    "print(f\"文件類型：{type(documents[0])}\")\n",
    "print(f\"文件內容長度：{len(documents[0].page_content)} 字符\")\n",
    "print(f\"文件元資料：{documents[0].metadata}\")\n",
    "print(\"\\n--- 文件內容預覽 ---\")\n",
    "print(documents[0].page_content[:200] + \"...\")"
   ]
  },
  {
   "cell_type": "markdown",
   "id": "e8d89f0a",
   "metadata": {},
   "source": [
    "## 處理網頁內容"
   ]
  },
  {
   "cell_type": "markdown",
   "id": "e74be755",
   "metadata": {},
   "source": [
    "### 創建一個模擬的網頁內容載入器"
   ]
  },
  {
   "cell_type": "code",
   "execution_count": null,
   "id": "7f2ab5f2",
   "metadata": {
    "vscode": {
     "languageId": "plaintext"
    }
   },
   "outputs": [],
   "source": [
    "# 創建一個模擬的網頁內容載入器\n",
    "class MockWebLoader:\n",
    "    def __init__(self, url):\n",
    "        self.url = url\n",
    "    \n",
    "    def load(self):\n",
    "        # 模擬不同網站的內容\n",
    "        mock_content = {\n",
    "            \"company_policy\": \"\"\"\n",
    "            <html>\n",
    "            <head><title>公司政策手冊</title></head>\n",
    "            <body>\n",
    "                <h1>員工行為準則</h1>\n",
    "                <h2>工作時間政策</h2>\n",
    "                <p>標準工作時間為每日8小時，週一至週五上午9點至下午6點。</p>\n",
    "                \n",
    "                <h2>遠端工作規定</h2>\n",
    "                <p>員工可申請彈性工作安排，包括部分時間的遠端工作。</p>\n",
    "                <ul>\n",
    "                    <li>需提前一週申請</li>\n",
    "                    <li>每週最多3天遠端工作</li>\n",
    "                    <li>必須保持與團隊的有效溝通</li>\n",
    "                </ul>\n",
    "                \n",
    "                <h2>休假政策</h2>\n",
    "                <p>全職員工每年享有20天帶薪年假。</p>\n",
    "            </body>\n",
    "            </html>\n",
    "            \"\"\",\n",
    "            \"tech_docs\": \"\"\"\n",
    "            <html>\n",
    "            <head><title>API 技術文件</title></head>\n",
    "            <body>\n",
    "                <h1>RESTful API 使用指南</h1>\n",
    "                <h2>認證方式</h2>\n",
    "                <p>所有 API 請求都需要在標頭中包含有效的 API 金鑰。</p>\n",
    "                <code>Authorization: Bearer YOUR_API_KEY</code>\n",
    "                \n",
    "                <h2>常用端點</h2>\n",
    "                <h3>用戶管理</h3>\n",
    "                <p>GET /api/users - 獲取用戶列表</p>\n",
    "                <p>POST /api/users - 創建新用戶</p>\n",
    "                \n",
    "                <h3>資料查詢</h3>\n",
    "                <p>GET /api/data - 查詢資料</p>\n",
    "                <p>支援的參數：limit, offset, filter</p>\n",
    "            </body>\n",
    "            </html>\n",
    "            \"\"\"\n",
    "        }\n",
    "        \n",
    "        # 根據 URL 返回對應的模擬內容\n",
    "        if \"policy\" in self.url:\n",
    "            content = mock_content[\"company_policy\"]\n",
    "        else:\n",
    "            content = mock_content[\"tech_docs\"]\n",
    "        \n",
    "        # 簡單的 HTML 標籤清理\n",
    "        import re\n",
    "        text_content = re.sub(r'<[^>]+>', ' ', content)\n",
    "        text_content = re.sub(r'\\s+', ' ', text_content).strip()\n",
    "        \n",
    "        return [Document(\n",
    "            page_content=text_content,\n",
    "            metadata={\"source\": self.url, \"type\": \"webpage\"}\n",
    "        )]"
   ]
  },
  {
   "cell_type": "markdown",
   "id": "0a718774",
   "metadata": {},
   "source": [
    "### 載入不同類型的網頁內容"
   ]
  },
  {
   "cell_type": "code",
   "execution_count": null,
   "id": "6c22c530",
   "metadata": {
    "vscode": {
     "languageId": "plaintext"
    }
   },
   "outputs": [],
   "source": [
    "policy_loader = MockWebLoader(\"https://company.com/policy\")\n",
    "tech_loader = MockWebLoader(\"https://company.com/tech-docs\")\n",
    "\n",
    "policy_docs = policy_loader.load()\n",
    "tech_docs = tech_loader.load()"
   ]
  },
  {
   "cell_type": "code",
   "execution_count": null,
   "id": "d5601a3b",
   "metadata": {
    "vscode": {
     "languageId": "plaintext"
    }
   },
   "outputs": [],
   "source": [
    "print(\"=== 政策文件 ===\")\n",
    "print(f\"來源：{policy_docs[0].metadata['source']}\")\n",
    "print(f\"內容長度：{len(policy_docs[0].page_content)} 字符\")\n",
    "print(f\"內容預覽：{policy_docs[0].page_content[:150]}...\")\n",
    "\n",
    "print(\"\\n=== 技術文件 ===\")\n",
    "print(f\"來源：{tech_docs[0].metadata['source']}\")\n",
    "print(f\"內容長度：{len(tech_docs[0].page_content)} 字符\")\n",
    "print(f\"內容預覽：{tech_docs[0].page_content[:150]}...\")"
   ]
  },
  {
   "cell_type": "markdown",
   "id": "dcbf46e2",
   "metadata": {},
   "source": [
    "## 處理結構化資料"
   ]
  },
  {
   "cell_type": "code",
   "execution_count": null,
   "id": "220993c0",
   "metadata": {
    "vscode": {
     "languageId": "plaintext"
    }
   },
   "outputs": [],
   "source": [
    "# 創建示例 CSV 資料\n",
    "csv_content = \"\"\"產品名稱,類別,價格,描述,上市日期\n",
    "智慧手錶 Pro,穿戴裝置,299,具備健康監測和運動追蹤功能的智慧手錶,2024-01-15\n",
    "無線耳機 X1,音響設備,199,主動降噪無線藍牙耳機，電池續航24小時,2024-02-20\n",
    "智慧音箱 Home,智慧家居,149,支援語音控制的智慧音箱，內建AI助理,2024-03-10\n",
    "平板電腦 Tab,電腦設備,599,10吋高解析度觸控螢幕，適合工作和娛樂,2024-01-30\n",
    "健身追蹤器,穿戴裝置,99,輕量化設計，專注於運動數據追蹤,2024-04-05\"\"\"\n",
    "\n",
    "# 儲存為 CSV 檔案\n",
    "with open(\"products.csv\", \"w\", encoding=\"utf-8\") as f:\n",
    "    f.write(csv_content)\n",
    "\n",
    "# 使用 CSVLoader 載入資料\n",
    "csv_loader = CSVLoader(\"products.csv\")\n",
    "csv_documents = csv_loader.load()\n",
    "\n",
    "print(f\"從 CSV 載入了 {len(csv_documents)} 個產品記錄\")\n",
    "print(\"\\n=== 產品記錄範例 ===\")\n",
    "for i, doc in enumerate(csv_documents[:3]):  # 顯示前3個記錄\n",
    "    print(f\"\\n產品 {i+1}:\")\n",
    "    print(f\"內容：{doc.page_content}\")\n",
    "    print(f\"來源：{doc.metadata}\")"
   ]
  },
  {
   "cell_type": "markdown",
   "id": "cab029b8",
   "metadata": {},
   "source": [
    "## 整合多來源資料"
   ]
  },
  {
   "cell_type": "code",
   "execution_count": null,
   "id": "c2592710",
   "metadata": {
    "vscode": {
     "languageId": "plaintext"
    }
   },
   "outputs": [],
   "source": [
    "# 整合所有載入的文件\n",
    "all_documents = []\n",
    "\n",
    "# 添加不同來源的文件\n",
    "all_documents.extend(documents)      # 技術指南\n",
    "all_documents.extend(policy_docs)    # 公司政策  \n",
    "all_documents.extend(tech_docs)      # API 文件\n",
    "all_documents.extend(csv_documents)  # 產品資料\n",
    "\n",
    "# 為每個文件添加類型標識\n",
    "for doc in documents:\n",
    "    doc.metadata[\"document_type\"] = \"technical_guide\"\n",
    "\n",
    "for doc in policy_docs:\n",
    "    doc.metadata[\"document_type\"] = \"company_policy\"\n",
    "    \n",
    "for doc in tech_docs:\n",
    "    doc.metadata[\"document_type\"] = \"api_documentation\"\n",
    "    \n",
    "for doc in csv_documents:\n",
    "    doc.metadata[\"document_type\"] = \"product_catalog\""
   ]
  },
  {
   "cell_type": "code",
   "execution_count": null,
   "id": "1da42f2a",
   "metadata": {
    "vscode": {
     "languageId": "plaintext"
    }
   },
   "outputs": [],
   "source": [
    "# 顯示整合結果\n",
    "print(f\"知識庫總計包含 {len(all_documents)} 個文件\")\n",
    "print(\"\\n=== 文件類型統計 ===\")\n",
    "doc_types = {}\n",
    "for doc in all_documents:\n",
    "    doc_type = doc.metadata.get(\"document_type\", \"unknown\")\n",
    "    doc_types[doc_type] = doc_types.get(doc_type, 0) + 1\n",
    "\n",
    "for doc_type, count in doc_types.items():\n",
    "    print(f\"{doc_type}: {count} 個文件\")\n",
    "\n"
   ]
  },
  {
   "cell_type": "code",
   "execution_count": null,
   "id": "2b93af44",
   "metadata": {
    "vscode": {
     "languageId": "plaintext"
    }
   },
   "outputs": [],
   "source": [
    "# 清理暫存檔案\n",
    "import os\n",
    "for file in [\"ai_product_guide.txt\", \"products.csv\"]:\n",
    "    if os.path.exists(file):\n",
    "        os.remove(file)\n",
    "        \n",
    "print(\"\\n文件載入和整合完成！\")"
   ]
  },
  {
   "cell_type": "markdown",
   "id": "c0d5f22f",
   "metadata": {},
   "source": [
    "# 分割策略"
   ]
  },
  {
   "cell_type": "markdown",
   "id": "f1ee5bfc",
   "metadata": {},
   "source": [
    "## 準備檔案進行示範"
   ]
  },
  {
   "cell_type": "code",
   "execution_count": null,
   "id": "60ed7806",
   "metadata": {
    "vscode": {
     "languageId": "plaintext"
    }
   },
   "outputs": [],
   "source": [
    "# 準備一份較長的示例文件來演示分割效果\n",
    "long_document_content = \"\"\"\n",
    "# RAG 系統架構設計完整指南\n",
    "\n",
    "## 第一章：系統概述\n",
    "RAG（Retrieval-Augmented Generation）系統是一種結合檢索和生成技術的先進 AI 架構。它通過在生成回答之前先檢索相關資訊，有效解決了大型語言模型的知識局限性問題。\n",
    "\n",
    "### 1.1 核心組件\n",
    "RAG 系統主要包含以下核心組件：\n",
    "\n",
    "#### 1.1.1 文件載入器\n",
    "負責從各種來源載入和預處理文件，支援 PDF、Word、網頁等多種格式。文件載入器需要處理編碼問題、格式轉換和內容清理。\n",
    "#### 1.1.2 文字分割器\n",
    "將長文件分割成適當大小的片段。分割策略需要考慮語義完整性、片段大小和重疊程度。常用的分割方法包括固定長度分割、段落分割和語義分割。\n",
    "#### 1.1.3 嵌入模型\n",
    "將文字片段轉換為高維向量表示。嵌入模型的選擇會影響檢索的準確性。常用的模型包括 OpenAI 的 text-embedding-ada-002、Sentence-BERT 等。\n",
    "#### 1.1.4 向量資料庫\n",
    "儲存和檢索文件片段的向量表示。需要支援快速的相似度搜尋和大規模資料儲存。主流選擇包括 Chroma、Pinecone、Weaviate 等。\n",
    "#### 1.1.5 檢索器\n",
    "根據使用者查詢檢索最相關的文件片段。檢索策略可以是簡單的相似度搜尋，也可以是複雜的混合檢索方法。\n",
    "#### 1.1.6 生成模型\n",
    "基於檢索到的上下文生成最終回答。需要能夠理解和整合多個資訊來源，生成準確、相關的回答。\n",
    "\n",
    "## 第二章：實作指南\n",
    "### 2.1 環境準備\n",
    "在開始實作 RAG 系統之前，需要準備開發環境。建議使用 Python 3.8 以上版本，安裝必要的套件包括 LangChain、OpenAI、Chroma 等。\n",
    "\n",
    "### 2.2 資料準備\n",
    "資料準備是 RAG 系統成功的關鍵。需要收集高品質的文件，進行適當的預處理，包括去除雜訊、標準化格式、處理特殊字符等。\n",
    "\n",
    "### 2.3 系統架構\n",
    "設計良好的系統架構能夠確保 RAG 系統的可擴展性和維護性。建議採用模組化設計，將不同功能分離到獨立的組件中。\n",
    "\n",
    "## 第三章：優化策略\n",
    "### 3.1 檢索優化\n",
    "檢索是 RAG 系統的核心環節，直接影響最終回答的品質。可以通過調整相似度閾值、使用混合檢索、實作重新排序等方法來優化檢索效果。\n",
    "\n",
    "### 3.2 生成優化\n",
    "生成優化主要涉及提示工程和模型調整。好的提示模板能夠引導模型生成更準確、更有用的回答。\n",
    "\n",
    "### 3.3 系統監控\n",
    "持續監控系統性能，包括回答品質、回應時間、資源使用等指標，是保證 RAG 系統穩定運行的重要手段。\n",
    "\"\"\""
   ]
  },
  {
   "cell_type": "code",
   "execution_count": null,
   "id": "614a6dc7",
   "metadata": {
    "vscode": {
     "languageId": "plaintext"
    }
   },
   "outputs": [],
   "source": [
    "from langchain.text_splitter import RecursiveCharacterTextSplitter\n",
    "import matplotlib.pyplot as plt\n",
    "\n",
    "# 創建文件物件\n",
    "long_document = Document(\n",
    "    page_content=long_document_content,\n",
    "    metadata={\"source\": \"rag_guide.md\", \"type\": \"technical_documentation\"}\n",
    ")\n",
    "\n",
    "print(f\"原始文件長度：{len(long_document.page_content)} 字符\")\n",
    "print(f\"原始文件行數：{len(long_document.page_content.splitlines())} 行\")\n"
   ]
  },
  {
   "cell_type": "markdown",
   "id": "e1e24286",
   "metadata": {},
   "source": [
    "### 分割實作"
   ]
  },
  {
   "cell_type": "code",
   "execution_count": null,
   "id": "5ae41760",
   "metadata": {
    "vscode": {
     "languageId": "plaintext"
    }
   },
   "outputs": [],
   "source": [
    "# 1. 固定長度分割（最基礎的方法）\n",
    "basic_splitter = RecursiveCharacterTextSplitter(\n",
    "    chunk_size=500,           # 每個片段500字符\n",
    "    chunk_overlap=50,         # 片段間重疊50字符\n",
    "    length_function=len,      # 使用字符數計算長度\n",
    "    separators=[\"\\n\\n\", \"\\n\", \" \", \"\"]  # 分割優先順序\n",
    ")\n",
    "\n",
    "basic_chunks = basic_splitter.split_documents([long_document])\n",
    "\n",
    "print(\"=== 基礎分割結果 ===\")\n",
    "print(f\"分割成 {len(basic_chunks)} 個片段\")\n",
    "for i, chunk in enumerate(basic_chunks[:3]):  # 顯示前3個片段\n",
    "    print(f\"\\n--- 片段 {i+1} ---\")\n",
    "    print(f\"長度：{len(chunk.page_content)} 字符\")\n",
    "    print(f\"內容預覽：{chunk.page_content[:100]}...\")\n",
    "    print(f\"元資料：{chunk.metadata}\")\n"
   ]
  },
  {
   "cell_type": "markdown",
   "id": "689dcabf",
   "metadata": {},
   "source": [
    "### 語義分割實作"
   ]
  },
  {
   "cell_type": "code",
   "execution_count": null,
   "id": "f91f4b8a",
   "metadata": {
    "vscode": {
     "languageId": "plaintext"
    }
   },
   "outputs": [],
   "source": [
    "# 2. 語義感知分割\n",
    "semantic_splitter = RecursiveCharacterTextSplitter(\n",
    "    chunk_size=800,           # 較大的片段允許更完整的語義單位\n",
    "    chunk_overlap=100,        # 更大的重疊確保語義連續性\n",
    "    length_function=len,\n",
    "    separators=[\"## \", \"### \", \"\\n\\n\", \"\\n\", \" \", \"\"]  # 優先在標題處分割\n",
    ")\n",
    "\n",
    "semantic_chunks = semantic_splitter.split_documents([long_document])\n",
    "\n",
    "print(\"=== 語義感知分割結果 ===\")\n",
    "print(f\"分割成 {len(semantic_chunks)} 個片段\")\n",
    "\n",
    "for i, chunk in enumerate(semantic_chunks):\n",
    "    print(f\"\\n--- 片段 {i+1} ---\")\n",
    "    print(f\"長度：{len(chunk.page_content)} 字符\")\n",
    "    \n",
    "    # 檢查片段是否包含完整的語義單位\n",
    "    content_preview = chunk.page_content.strip()\n",
    "    if content_preview.startswith('#'):\n",
    "        print(f\"類型：標題開始的片段\")\n",
    "    elif content_preview.startswith('###'):\n",
    "        print(f\"類型：子標題片段\")\n",
    "    else:\n",
    "        print(f\"類型：內容片段\")\n",
    "    \n",
    "    print(f\"開始：{content_preview[:80]}...\")\n",
    "    if i < 3:  # 只顯示前3個片段的完整內容\n",
    "        print(f\"完整內容：\\n{content_preview[:300]}...\")\n"
   ]
  },
  {
   "cell_type": "markdown",
   "id": "b9d3db0d",
   "metadata": {},
   "source": [
    "## 分割品質分析"
   ]
  },
  {
   "cell_type": "code",
   "execution_count": null,
   "id": "c6978e92",
   "metadata": {
    "vscode": {
     "languageId": "plaintext"
    }
   },
   "outputs": [],
   "source": [
    "# 分割品質分析函數\n",
    "def analyze_chunks(chunks, title=\"分割分析\"):\n",
    "    print(f\"\\n=== {title} ===\")\n",
    "    \n",
    "    # 基本統計\n",
    "    lengths = [len(chunk.page_content) for chunk in chunks]\n",
    "    print(f\"總片段數：{len(chunks)}\")\n",
    "    print(f\"平均長度：{sum(lengths)/len(lengths):.1f} 字符\")\n",
    "    print(f\"最短片段：{min(lengths)} 字符\")\n",
    "    print(f\"最長片段：{max(lengths)} 字符\")\n",
    "    \n",
    "    # 長度分佈分析\n",
    "    length_ranges = {\n",
    "        \"很短 (<200)\": len([l for l in lengths if l < 200]),\n",
    "        \"短 (200-400)\": len([l for l in lengths if 200 <= l < 400]),\n",
    "        \"中等 (400-600)\": len([l for l in lengths if 400 <= l < 600]),\n",
    "        \"長 (600-800)\": len([l for l in lengths if 600 <= l < 800]),\n",
    "        \"很長 (>800)\": len([l for l in lengths if l >= 800])\n",
    "    }\n",
    "    \n",
    "    print(\"\\n長度分佈：\")\n",
    "    for range_name, count in length_ranges.items():\n",
    "        percentage = (count / len(chunks)) * 100\n",
    "        print(f\"  {range_name}: {count} 個 ({percentage:.1f}%)\")\n",
    "    \n",
    "    # 語義完整性檢查\n",
    "    complete_units = 0\n",
    "    for chunk in chunks:\n",
    "        content = chunk.page_content.strip()\n",
    "        # 檢查是否以標題開始或包含完整段落\n",
    "        if (content.startswith('#') or \n",
    "            content.count('\\n\\n') >= 1 or \n",
    "            len(content.split('。')) >= 2):\n",
    "            complete_units += 1\n",
    "    \n",
    "    print(f\"\\n語義完整性：{complete_units}/{len(chunks)} ({(complete_units/len(chunks)*100):.1f}%) 片段看起來語義完整\")\n",
    "    \n",
    "    return {\n",
    "        \"total_chunks\": len(chunks),\n",
    "        \"avg_length\": sum(lengths)/len(lengths),\n",
    "        \"length_distribution\": length_ranges,\n",
    "        \"semantic_completeness\": complete_units/len(chunks)\n",
    "    }\n",
    "\n",
    "# 比較不同分割策略的效果\n",
    "basic_analysis = analyze_chunks(basic_chunks, \"基礎分割分析\")\n",
    "semantic_analysis = analyze_chunks(semantic_chunks, \"語義感知分割分析\")\n"
   ]
  },
  {
   "cell_type": "markdown",
   "id": "b03d0bd4",
   "metadata": {},
   "source": [
    "### 特定類型優化分割"
   ]
  },
  {
   "cell_type": "code",
   "execution_count": null,
   "id": "7842aa02",
   "metadata": {
    "vscode": {
     "languageId": "plaintext"
    }
   },
   "outputs": [],
   "source": [
    "# 針對程式碼文件的分割器\n",
    "def create_code_splitter():\n",
    "    return RecursiveCharacterTextSplitter(\n",
    "        chunk_size=600,\n",
    "        chunk_overlap=50,\n",
    "        separators=[\"\\n\\nclass \", \"\\n\\ndef \", \"\\n\\n```\", \"\\n\\n\", \"\\n\", \" \"]\n",
    "    )\n",
    "\n",
    "# 針對FAQ文件的分割器  \n",
    "def create_faq_splitter():\n",
    "    return RecursiveCharacterTextSplitter(\n",
    "        chunk_size=400,\n",
    "        chunk_overlap=30,\n",
    "        separators=[\"\\nQ:\", \"\\n問：\", \"\\n答：\", \"\\nA:\", \"\\n\\n\", \"\\n\"]\n",
    "    )\n",
    "\n",
    "# 針對API文件的分割器\n",
    "def create_api_splitter():\n",
    "    return RecursiveCharacterTextSplitter(\n",
    "        chunk_size=700,\n",
    "        chunk_overlap=80,\n",
    "        separators=[\"\\n## Endpoint\", \"\\n### \", \"\\n\\n\", \"\\n\", \" \"]\n",
    "    )\n",
    "\n",
    "# 示範針對技術文件的最佳分割策略\n",
    "technical_splitter = RecursiveCharacterTextSplitter(\n",
    "    chunk_size=750,           # 技術文件通常需要更多上下文\n",
    "    chunk_overlap=75,         # 較大重疊保持技術概念的連續性\n",
    "    separators=[\n",
    "        \"\\n## \",              # 主要章節\n",
    "        \"\\n### \",             # 子章節\n",
    "        \"\\n#### \",            # 小節\n",
    "        \"\\n\\n\",               # 段落\n",
    "        \"\\n\",                 # 行\n",
    "        \" \"                   # 詞\n",
    "    ]\n",
    ")\n",
    "\n",
    "technical_chunks = technical_splitter.split_documents([long_document])\n",
    "technical_analysis = analyze_chunks(technical_chunks, \"技術文件優化分割\")\n",
    "\n",
    "# 顯示最終推薦的分割結果\n",
    "print(\"\\n=== 推薦分割策略的片段範例 ===\")\n",
    "for i, chunk in enumerate(technical_chunks[:2]):\n",
    "    print(f\"\\n片段 {i+1}：\")\n",
    "    print(f\"長度：{len(chunk.page_content)} 字符\")\n",
    "    print(f\"內容：\\n{chunk.page_content[:400]}...\")\n",
    "    print(\"-\" * 60)\n"
   ]
  },
  {
   "cell_type": "markdown",
   "id": "41c548d6",
   "metadata": {},
   "source": [
    "### 動態分割"
   ]
  },
  {
   "cell_type": "code",
   "execution_count": null,
   "id": "9d0facc9",
   "metadata": {
    "vscode": {
     "languageId": "plaintext"
    }
   },
   "outputs": [],
   "source": [
    "# 智慧參數調整函數\n",
    "def get_optimal_chunk_size(document_length, document_type):\n",
    "    \"\"\"根據文件長度和類型推薦最佳分割參數\"\"\"\n",
    "    \n",
    "    base_configs = {\n",
    "        \"technical_documentation\": {\"base_size\": 750, \"overlap_ratio\": 0.1},\n",
    "        \"company_policy\": {\"base_size\": 500, \"overlap_ratio\": 0.15},\n",
    "        \"api_documentation\": {\"base_size\": 600, \"overlap_ratio\": 0.12},\n",
    "        \"product_catalog\": {\"base_size\": 300, \"overlap_ratio\": 0.2}\n",
    "    }\n",
    "    \n",
    "    config = base_configs.get(document_type, {\"base_size\": 600, \"overlap_ratio\": 0.12})\n",
    "    \n",
    "    # 根據文件長度調整\n",
    "    if document_length < 2000:\n",
    "        size_multiplier = 0.7\n",
    "    elif document_length > 10000:\n",
    "        size_multiplier = 1.3\n",
    "    else:\n",
    "        size_multiplier = 1.0\n",
    "    \n",
    "    chunk_size = int(config[\"base_size\"] * size_multiplier)\n",
    "    chunk_overlap = int(chunk_size * config[\"overlap_ratio\"])\n",
    "    \n",
    "    return chunk_size, chunk_overlap\n",
    "\n",
    "# 為我們之前載入的不同類型文件應用最佳分割\n",
    "optimized_chunks = []\n",
    "\n",
    "for doc in all_documents:\n",
    "    doc_type = doc.metadata.get(\"document_type\", \"technical_documentation\")\n",
    "    doc_length = len(doc.page_content)\n",
    "    \n",
    "    chunk_size, chunk_overlap = get_optimal_chunk_size(doc_length, doc_type)\n",
    "    \n",
    "    splitter = RecursiveCharacterTextSplitter(\n",
    "        chunk_size=chunk_size,\n",
    "        chunk_overlap=chunk_overlap,\n",
    "        separators=[\"\\n## \", \"\\n### \", \"\\n\\n\", \"\\n\", \" \", \"\"]\n",
    "    )\n",
    "    \n",
    "    chunks = splitter.split_documents([doc])\n",
    "    \n",
    "    # 為每個片段添加分割資訊\n",
    "    for chunk in chunks:\n",
    "        chunk.metadata[\"chunk_size_used\"] = chunk_size\n",
    "        chunk.metadata[\"chunk_overlap_used\"] = chunk_overlap\n",
    "        chunk.metadata[\"original_doc_type\"] = doc_type\n",
    "    \n",
    "    optimized_chunks.extend(chunks)\n",
    "\n",
    "print(f\"使用動態參數分割後，總共產生 {len(optimized_chunks)} 個片段\")\n",
    "\n",
    "# 按文件類型統計分割結果\n",
    "type_stats = {}\n",
    "for chunk in optimized_chunks:\n",
    "    doc_type = chunk.metadata[\"original_doc_type\"]\n",
    "    if doc_type not in type_stats:\n",
    "        type_stats[doc_type] = {\"count\": 0, \"total_length\": 0}\n",
    "    type_stats[doc_type][\"count\"] += 1\n",
    "    type_stats[doc_type][\"total_length\"] += len(chunk.page_content)\n",
    "\n",
    "print(\"\\n=== 各類型文件分割統計 ===\")\n",
    "for doc_type, stats in type_stats.items():\n",
    "    avg_length = stats[\"total_length\"] / stats[\"count\"]\n",
    "    print(f\"{doc_type}:\")\n",
    "    print(f\"  片段數量：{stats['count']}\")\n",
    "    print(f\"  平均長度：{avg_length:.1f} 字符\")\n"
   ]
  },
  {
   "cell_type": "markdown",
   "id": "ea49b5c1",
   "metadata": {},
   "source": []
  }
 ],
 "metadata": {
  "language_info": {
   "name": "python"
  }
 },
 "nbformat": 4,
 "nbformat_minor": 5
}
