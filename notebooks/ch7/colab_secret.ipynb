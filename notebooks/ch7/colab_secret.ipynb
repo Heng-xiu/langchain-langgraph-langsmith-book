{
 "cells": [
  {
   "cell_type": "markdown",
   "id": "65b27f9d",
   "metadata": {},
   "source": [
    "在 colab 當中讀取金鑰"
   ]
  },
  {
   "cell_type": "code",
   "execution_count": null,
   "id": "8ecf101e",
   "metadata": {
    "vscode": {
     "languageId": "plaintext"
    }
   },
   "outputs": [],
   "source": [
    "from google.colab import userdata\n",
    "\n",
    "my_secret_key = userdata.get('GOOGLE_API_KEY')\n",
    "print(my_secret_key)  # 輸出：你的 API 金鑰（實務上建議不要直接 print）\n"
   ]
  },
  {
   "cell_type": "markdown",
   "id": "db83b12a",
   "metadata": {},
   "source": [
    "安裝 Google Generative AI SDK"
   ]
  },
  {
   "cell_type": "code",
   "execution_count": null,
   "id": "04b4aa8d",
   "metadata": {
    "vscode": {
     "languageId": "plaintext"
    }
   },
   "outputs": [],
   "source": [
    "!pip install -U -q \"google-generativeai>=0.7.2\""
   ]
  },
  {
   "cell_type": "markdown",
   "id": "1b46be61",
   "metadata": {},
   "source": [
    "程式碼當中進行配置"
   ]
  },
  {
   "cell_type": "code",
   "execution_count": null,
   "id": "71192f63",
   "metadata": {
    "vscode": {
     "languageId": "plaintext"
    }
   },
   "outputs": [],
   "source": [
    "import google.generativeai as genai\n",
    "from google.colab import userdata\n",
    "\n",
    "GOOGLE_API_KEY = userdata.get('GOOGLE_API_KEY')\n",
    "genai.configure(api_key=GOOGLE_API_KEY)\n",
    "\n",
    "# 假設要呼叫 Gemini API：\n",
    "model = genai.GenerativeModel('models/gemini-1.5-flash')\n",
    "response = model.generate_content(\"Please give me python code to sort a list.\")\n",
    "print(response.text)\n"
   ]
  },
  {
   "cell_type": "markdown",
   "id": "1e27765a",
   "metadata": {},
   "source": [
    "另一種配置金鑰的方式"
   ]
  },
  {
   "cell_type": "code",
   "execution_count": null,
   "id": "ff7b1c6e",
   "metadata": {
    "vscode": {
     "languageId": "plaintext"
    }
   },
   "outputs": [],
   "source": [
    "export GOOGLE_API_KEY=\"YOUR_API_KEY\""
   ]
  },
  {
   "cell_type": "markdown",
   "id": "1c8102d2",
   "metadata": {},
   "source": [
    "程式碼當中讀取"
   ]
  },
  {
   "cell_type": "code",
   "execution_count": null,
   "id": "ef15aad3",
   "metadata": {
    "vscode": {
     "languageId": "plaintext"
    }
   },
   "outputs": [],
   "source": [
    "import os\n",
    "genai.configure(api_key=os.environ['GOOGLE_API_KEY'])\n"
   ]
  },
  {
   "cell_type": "code",
   "execution_count": null,
   "id": "93ab0ba2",
   "metadata": {
    "vscode": {
     "languageId": "plaintext"
    }
   },
   "outputs": [],
   "source": [
    "curl \"https://generativelanguage.googleapis.com/v1beta/models/gemini-pro:generateContent?key=$GOOGLE_API_KEY\" \\\n",
    "    -H 'Content-Type: application/json' \\\n",
    "    -X POST \\\n",
    "    -d '{\n",
    "      \"contents\": [{\n",
    "        \"parts\":[{\n",
    "          \"text\": \"Please give me Python code to sort a list.\"}]}]}'\n"
   ]
  }
 ],
 "metadata": {
  "language_info": {
   "name": "python"
  }
 },
 "nbformat": 4,
 "nbformat_minor": 5
}
