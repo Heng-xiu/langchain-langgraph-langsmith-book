{
 "cells": [
  {
   "cell_type": "code",
   "execution_count": null,
   "id": "26329d0f",
   "metadata": {
    "vscode": {
     "languageId": "plaintext"
    }
   },
   "outputs": [],
   "source": [
    "# 安裝必要套件\n",
    "!pip install langgraph openai\n"
   ]
  },
  {
   "cell_type": "code",
   "execution_count": null,
   "id": "11755f93",
   "metadata": {
    "vscode": {
     "languageId": "plaintext"
    }
   },
   "outputs": [],
   "source": [
    "# 導入模組\n",
    "from langgraph.graph import StateGraph, END\n",
    "from dataclasses import dataclass\n",
    "from openai import OpenAI\n",
    "from typing import Dict\n",
    "from google.colab import userdata\n",
    "\n",
    "# 定義狀態結構\n",
    "@dataclass\n",
    "class SummaryState:\n",
    "    summary: str = \"\"  # 生成的摘要\n",
    "    post: str = \"\"  # 生成的X貼文\n",
    "    feedback: str = \"\"  # 風格反饋\n",
    "    iteration: int = 0  # 迭代次數\n",
    "    input: str = \"\"  # 可選的新聞輸入\n",
    "\n",
    "# 初始化OpenAI客戶端\n",
    "client = OpenAI(api_key=userdata.get('OPENAI_API_KEY'))  # 從Colab環境獲取金鑰\n",
    "\n",
    "# 語言模型調用函數\n",
    "def llm_call(prompt: str, max_tokens: int = 150) -> str:\n",
    "    response = client.chat.completions.create(\n",
    "        model=\"gpt-4o\",\n",
    "        messages=[{\"role\": \"user\", \"content\": prompt}],\n",
    "        max_tokens=max_tokens,\n",
    "        temperature=0.5  # 保持中立語氣\n",
    "    )\n",
    "    return response.choices[0].message.content.strip()\n",
    "\n",
    "# 貼文生成節點\n",
    "def post_node(state: SummaryState) -> Dict:\n",
    "    prompt = f\"將以下100字摘要改編為50~100字X貼文，語氣中立，簡潔吸睛，包含2~3個標籤（如#科技）：\\n{state.summary}\"\n",
    "    state.post = llm_call(prompt, max_tokens=100)\n",
    "    return {\"post\": state.post}\n",
    "\n",
    "# 風格檢查節點\n",
    "def style_node(state: SummaryState) -> Dict:\n",
    "    prompt = f\"檢查以下X貼文是否語氣中立、標籤適切（2~3個，符合主題）。若語氣偏差或標籤不佳，提供修正建議；若無，回覆‘無問題’：\\n貼文：{state.post}\"\n",
    "    state.feedback = llm_call(prompt)\n",
    "    state.iteration += 1\n",
    "    return {\"feedback\": state.feedback, \"iteration\": state.iteration}\n",
    "\n",
    "# 構建工作流程\n",
    "workflow = StateGraph(SummaryState)\n",
    "workflow.add_node(\"post_node\", post_node)\n",
    "workflow.add_node(\"style_node\", style_node)\n",
    "workflow.set_entry_point(\"post_node\")\n",
    "workflow.add_edge(\"post_node\", \"style_node\")\n",
    "workflow.add_conditional_edges(\n",
    "    \"style_node\",\n",
    "    lambda state: \"end\" if \"無問題\" in state.feedback or state.iteration >= 2 else \"post_node\",\n",
    "    {\"post_node\": \"post_node\", \"end\": END}\n",
    ")\n",
    "graph = workflow.compile()\n",
    "\n",
    "# 範例摘要（假設已從文章2生成）\n",
    "summary = \"\"\"\n",
    "人工智慧技術將醫療影像診斷準確率提升至90%，遠超傳統方法的70%。這項突破利用深度學習與大數據分析，可降低癌症篩查誤診率30%，並減輕醫生負擔。未來有望推動智慧醫療發展，但仍需解決資料隱私等挑戰。\n",
    "\"\"\"\n",
    "\n",
    "# 執行貼文風格優化\n",
    "result = graph.invoke(SummaryState(summary=summary))\n",
    "print(f\"優化後的X貼文：\\n{result['post']}\")\n",
    "print(f\"風格反饋：\\n{result['feedback']}\")"
   ]
  }
 ],
 "metadata": {
  "language_info": {
   "name": "python"
  }
 },
 "nbformat": 4,
 "nbformat_minor": 5
}
