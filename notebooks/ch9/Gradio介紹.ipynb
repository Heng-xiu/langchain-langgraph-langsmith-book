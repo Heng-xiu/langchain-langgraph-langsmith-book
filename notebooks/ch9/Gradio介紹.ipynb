{
 "cells": [
  {
   "cell_type": "markdown",
   "id": "04008c91",
   "metadata": {},
   "source": [
    "安裝並且導入套件"
   ]
  },
  {
   "cell_type": "code",
   "execution_count": null,
   "id": "e20f461e",
   "metadata": {
    "vscode": {
     "languageId": "plaintext"
    }
   },
   "outputs": [],
   "source": [
    "!pip install transformers ipywidgets gradio --upgrade"
   ]
  },
  {
   "cell_type": "markdown",
   "id": "95988474",
   "metadata": {},
   "source": [
    "引入套件"
   ]
  },
  {
   "cell_type": "code",
   "execution_count": null,
   "id": "12531609",
   "metadata": {
    "vscode": {
     "languageId": "plaintext"
    }
   },
   "outputs": [],
   "source": [
    "import gradio as gr\n",
    "from transformers import pipeline"
   ]
  },
  {
   "cell_type": "code",
   "execution_count": null,
   "id": "63497f8b",
   "metadata": {
    "vscode": {
     "languageId": "plaintext"
    }
   },
   "outputs": [],
   "source": [
    "translation_pipeline = pipeline('translation_en_to_zh')"
   ]
  },
  {
   "cell_type": "markdown",
   "id": "491da974",
   "metadata": {},
   "source": [
    "跑看看 pipeline 結果"
   ]
  },
  {
   "cell_type": "code",
   "execution_count": null,
   "id": "d251694f",
   "metadata": {
    "vscode": {
     "languageId": "plaintext"
    }
   },
   "outputs": [],
   "source": [
    "results = translation_pipeline('I love to travel the world')"
   ]
  },
  {
   "cell_type": "markdown",
   "id": "38e4b069",
   "metadata": {},
   "source": [
    "展示結果"
   ]
  },
  {
   "cell_type": "code",
   "execution_count": null,
   "id": "b799320c",
   "metadata": {
    "vscode": {
     "languageId": "plaintext"
    }
   },
   "outputs": [],
   "source": [
    "results[0]['translation_text']"
   ]
  },
  {
   "cell_type": "markdown",
   "id": "d6f38eab",
   "metadata": {},
   "source": [
    "定義翻譯函數"
   ]
  },
  {
   "cell_type": "code",
   "execution_count": null,
   "id": "9671e1e9",
   "metadata": {
    "vscode": {
     "languageId": "plaintext"
    }
   },
   "outputs": [],
   "source": [
    "def translate_transformers(from_text):\n",
    "    results = translation_pipeline(from_text)\n",
    "    return results[0]['translation_text']"
   ]
  },
  {
   "cell_type": "markdown",
   "id": "dccad28f",
   "metadata": {},
   "source": [
    "測試函數"
   ]
  },
  {
   "cell_type": "code",
   "execution_count": null,
   "id": "564adba4",
   "metadata": {
    "vscode": {
     "languageId": "plaintext"
    }
   },
   "outputs": [],
   "source": [
    "translate_transformers('My name is Victor')"
   ]
  },
  {
   "cell_type": "markdown",
   "id": "8f3f4802",
   "metadata": {},
   "source": [
    "建立原形"
   ]
  },
  {
   "cell_type": "code",
   "execution_count": null,
   "id": "f9438ab7",
   "metadata": {
    "vscode": {
     "languageId": "plaintext"
    }
   },
   "outputs": [],
   "source": [
    "interface = gr.Interface(\n",
    "    fn=translate_transformers, \n",
    "    inputs=gr.inputs.Textbox(lines=2, placeholder='英文轉中文翻譯\"'),\n",
    "    outputs='text')"
   ]
  },
  {
   "cell_type": "code",
   "execution_count": null,
   "id": "f2ca1df4",
   "metadata": {
    "vscode": {
     "languageId": "plaintext"
    }
   },
   "outputs": [],
   "source": [
    "interface.launch()"
   ]
  }
 ],
 "metadata": {
  "language_info": {
   "name": "python"
  }
 },
 "nbformat": 4,
 "nbformat_minor": 5
}
