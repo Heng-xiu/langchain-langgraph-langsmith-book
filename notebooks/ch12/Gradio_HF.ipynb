{
 "cells": [
  {
   "cell_type": "markdown",
   "id": "8c995be3",
   "metadata": {},
   "source": [
    "# 安裝 & 基本用法\n",
    "\n",
    "Python 第三方 Library Gradio 快速上手\n",
    "- python 版本要求 3.7 以上"
   ]
  },
  {
   "cell_type": "code",
   "execution_count": null,
   "id": "12f10c69",
   "metadata": {
    "vscode": {
     "languageId": "plaintext"
    }
   },
   "outputs": [],
   "source": [
    "!pip install --quiet gradio"
   ]
  },
  {
   "cell_type": "markdown",
   "id": "dfedbc5e",
   "metadata": {},
   "source": [
    "檢視 Python 版本"
   ]
  },
  {
   "cell_type": "code",
   "execution_count": null,
   "id": "ebfc05d8",
   "metadata": {
    "vscode": {
     "languageId": "plaintext"
    }
   },
   "outputs": [],
   "source": [
    "!python -V"
   ]
  },
  {
   "cell_type": "markdown",
   "id": "aeda14c4",
   "metadata": {},
   "source": [
    "檢視 Gradio 版本"
   ]
  },
  {
   "cell_type": "code",
   "execution_count": null,
   "id": "cfb06eef",
   "metadata": {
    "vscode": {
     "languageId": "plaintext"
    }
   },
   "outputs": [],
   "source": [
    "!pip show gradio"
   ]
  },
  {
   "cell_type": "markdown",
   "id": "35c4d846",
   "metadata": {},
   "source": [
    "## 下載與展示使用"
   ]
  },
  {
   "cell_type": "code",
   "execution_count": null,
   "id": "7d5c852e",
   "metadata": {
    "vscode": {
     "languageId": "plaintext"
    }
   },
   "outputs": [],
   "source": [
    "import gradio as gr\n",
    "\n",
    "# 準備示例輸入\n",
    "examples = [\n",
    "    [\"The Moon's orbit around Earth has\"],\n",
    "    [\"There once was a pineapple\"]\n",
    "]\n",
    "\n",
    "# 載入 GPT-J 大型語言模型，並將示例輸入加入預設範例\n",
    "gr.Interface.load(\n",
    "    \"huggingface/EleutherAI/gpt-j-6B\",\n",
    "    examples=examples\n",
    ").launch()"
   ]
  },
  {
   "cell_type": "markdown",
   "id": "5753f65a",
   "metadata": {},
   "source": [
    "## 部署到 HF Space"
   ]
  },
  {
   "cell_type": "markdown",
   "id": "d73f3229",
   "metadata": {},
   "source": [
    "建立檔案\n",
    "- app.py: 主要的 Gradio 應用程式程式碼\n",
    "- requirements.txt: 指定所需的第三方函式庫"
   ]
  },
  {
   "cell_type": "markdown",
   "id": "be34fe05",
   "metadata": {},
   "source": [
    "app.py 內容物"
   ]
  },
  {
   "cell_type": "code",
   "execution_count": null,
   "id": "8b9ebab0",
   "metadata": {
    "vscode": {
     "languageId": "plaintext"
    }
   },
   "outputs": [],
   "source": [
    "import gradio as gr\n",
    "\n",
    "def greet(name):\n",
    "    return f\"Hello {name}!\"\n",
    "\n",
    "with gr.Blocks() as demo:\n",
    "    inp = gr.Textbox(label=\"Enter your name\")\n",
    "    out = gr.Textbox(label=\"Output\")\n",
    "    btn = gr.Button(\"Greet\")\n",
    "    btn.click(fn=greet, inputs=inp, outputs=out)\n",
    "\n",
    "if __name__ == \"__main__\":\n",
    "    demo.launch()\n"
   ]
  },
  {
   "cell_type": "markdown",
   "id": "eff277f7",
   "metadata": {},
   "source": [
    "requirements.txt 內容物"
   ]
  },
  {
   "cell_type": "code",
   "execution_count": null,
   "id": "6b41b006",
   "metadata": {
    "vscode": {
     "languageId": "plaintext"
    }
   },
   "outputs": [],
   "source": [
    "torch\n",
    "transformers\n",
    "gradio\n"
   ]
  }
 ],
 "metadata": {
  "language_info": {
   "name": "python"
  }
 },
 "nbformat": 4,
 "nbformat_minor": 5
}
