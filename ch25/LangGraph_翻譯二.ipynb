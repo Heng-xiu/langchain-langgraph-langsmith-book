{
 "cells": [
  {
   "cell_type": "code",
   "execution_count": null,
   "id": "0110537f",
   "metadata": {
    "vscode": {
     "languageId": "plaintext"
    }
   },
   "outputs": [],
   "source": [
    "# 安裝必要套件\n",
    "!pip install langgraph openai\n"
   ]
  },
  {
   "cell_type": "code",
   "execution_count": null,
   "id": "d7da0fbe",
   "metadata": {
    "vscode": {
     "languageId": "plaintext"
    }
   },
   "outputs": [],
   "source": [
    "# 導入模組\n",
    "from langgraph.graph import StateGraph, END\n",
    "from dataclasses import dataclass\n",
    "from typing import Dict\n",
    "from openai import OpenAI\n",
    "from google.colab import userdata\n",
    "\n",
    "# 定義狀態結構\n",
    "@dataclass\n",
    "class ReActState:\n",
    "    input: str\n",
    "    output: str = \"\"\n",
    "    history: list = None\n",
    "    iteration: int = 0\n",
    "\n",
    "    def __post_init__(self):\n",
    "        if self.history is None:\n",
    "            self.history = []\n",
    "\n",
    "# 初始化OpenAI客戶端\n",
    "client = OpenAI(api_key=userdata.get('OPENAI_API_KEY'))  # 替換為您的API金鑰\n",
    "\n",
    "# 語言模型調用函數\n",
    "def llm_call(prompt: str, max_tokens: int = 100) -> str:\n",
    "    response = client.chat.completions.create(\n",
    "        model=\"gpt-3.5-turbo\",\n",
    "        messages=[{\"role\": \"user\", \"content\": prompt}],\n",
    "        max_tokens=max_tokens\n",
    "    )\n",
    "    return response.choices[0].message.content.strip()\n",
    "\n",
    "# 生成節點：翻譯中文到英文\n",
    "def generate_node(state: ReActState) -> Dict:\n",
    "    prompt = f\"將以下中文翻譯成英文，要求語義準確：\\n{state.input}\\n歷史：{state.history}\"\n",
    "    state.output = llm_call(prompt)\n",
    "    state.history.append(f\"生成：{state.output}\")\n",
    "    return {\"output\": state.output, \"history\": state.history}\n",
    "\n",
    "# 檢查節點：更新迭代次數\n",
    "def check_node(state: ReActState) -> Dict:\n",
    "    state.iteration += 1\n",
    "    return {\"iteration\": state.iteration}\n",
    "\n",
    "# 構建工作流程\n",
    "workflow = StateGraph(ReActState)\n",
    "workflow.add_node(\"generate\", generate_node)\n",
    "workflow.add_node(\"check\", check_node)\n",
    "workflow.set_entry_point(\"generate\")\n",
    "workflow.add_edge(\"generate\", \"check\")\n",
    "workflow.add_conditional_edges(\n",
    "    \"check\",\n",
    "    lambda state: \"end\" if state.iteration >= 2 else \"generate\",\n",
    "    {\"generate\": \"generate\", \"end\": END}\n",
    ")\n",
    "graph = workflow.compile()\n",
    "\n",
    "# 執行範例\n",
    "result = graph.invoke(ReActState(input=\"人工智慧改變未來\"))\n",
    "print(f\"最終英文翻譯：{result['output']}\")\n",
    "print(f\"翻譯歷史：{result['history']}\")"
   ]
  }
 ],
 "metadata": {
  "language_info": {
   "name": "python"
  }
 },
 "nbformat": 4,
 "nbformat_minor": 5
}
