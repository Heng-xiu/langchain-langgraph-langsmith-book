{
 "cells": [
  {
   "cell_type": "code",
   "execution_count": null,
   "id": "dc41dd77",
   "metadata": {
    "vscode": {
     "languageId": "plaintext"
    }
   },
   "outputs": [],
   "source": [
    "!pip install -q -U google-generativeai"
   ]
  },
  {
   "cell_type": "markdown",
   "id": "43ae312a",
   "metadata": {},
   "source": [
    "設定金鑰"
   ]
  },
  {
   "cell_type": "code",
   "execution_count": null,
   "id": "37e3bdd6",
   "metadata": {
    "vscode": {
     "languageId": "plaintext"
    }
   },
   "outputs": [],
   "source": [
    "# Import the Python SDK\n",
    "import google.generativeai as genai\n",
    "\n",
    "genai.configure(api_key='YOUR_API_KEY')"
   ]
  },
  {
   "cell_type": "markdown",
   "id": "a1184539",
   "metadata": {},
   "source": [
    "列出當前可用模型"
   ]
  },
  {
   "cell_type": "code",
   "execution_count": null,
   "id": "e97355cb",
   "metadata": {
    "vscode": {
     "languageId": "plaintext"
    }
   },
   "outputs": [],
   "source": [
    "for m in genai.list_models():\n",
    "  if 'generateContent' in m.supported_generation_methods:\n",
    "    print(m.name)\n",
    "\n"
   ]
  },
  {
   "cell_type": "markdown",
   "id": "b9c602b9",
   "metadata": {},
   "source": [
    "預期輸出範例：\n",
    "- gemini-1.5-flash\n",
    "- gemini-1.5-pro"
   ]
  },
  {
   "cell_type": "markdown",
   "id": "7c643a56",
   "metadata": {},
   "source": [
    "定義模型與互動"
   ]
  },
  {
   "cell_type": "code",
   "execution_count": null,
   "id": "3f438711",
   "metadata": {
    "vscode": {
     "languageId": "plaintext"
    }
   },
   "outputs": [],
   "source": [
    "model = genai.GenerativeModel('gemini-2.5-flash')"
   ]
  },
  {
   "cell_type": "markdown",
   "id": "98a9fc14",
   "metadata": {},
   "source": [
    "## 直接對話"
   ]
  },
  {
   "cell_type": "code",
   "execution_count": null,
   "id": "19dbbe52",
   "metadata": {
    "vscode": {
     "languageId": "plaintext"
    }
   },
   "outputs": [],
   "source": [
    "%%time\n",
    "response = model.generate_content(\"什麼是延德耳效應？\")\n",
    "print(response.text)\n"
   ]
  },
  {
   "cell_type": "markdown",
   "id": "8ba38917",
   "metadata": {},
   "source": [
    "## 串流方式進行"
   ]
  },
  {
   "cell_type": "code",
   "execution_count": null,
   "id": "a043d26b",
   "metadata": {
    "vscode": {
     "languageId": "plaintext"
    }
   },
   "outputs": [],
   "source": [
    "%%time\n",
    "response = model.generate_content(\"什麼是延德耳效應？\", stream=True)"
   ]
  },
  {
   "cell_type": "markdown",
   "id": "51232bb8",
   "metadata": {},
   "source": [
    "並逐行查看"
   ]
  },
  {
   "cell_type": "code",
   "execution_count": null,
   "id": "df1cfb43",
   "metadata": {
    "vscode": {
     "languageId": "plaintext"
    }
   },
   "outputs": [],
   "source": [
    "for chunk in response:\n",
    "    print(chunk.text)\n",
    "    print(\"_\" * 80)\n"
   ]
  },
  {
   "cell_type": "markdown",
   "id": "50dce98b",
   "metadata": {},
   "source": [
    "## 帶對話紀錄的互動方式"
   ]
  },
  {
   "cell_type": "code",
   "execution_count": null,
   "id": "0d66aa3a",
   "metadata": {
    "vscode": {
     "languageId": "plaintext"
    }
   },
   "outputs": [],
   "source": [
    "model = genai.GenerativeModel('gemini-1.5-flash')\n",
    "chat = model.start_chat(history=[])\n",
    "chat\n"
   ]
  },
  {
   "cell_type": "markdown",
   "id": "8549dcbe",
   "metadata": {},
   "source": [
    "傳送訊息"
   ]
  },
  {
   "cell_type": "code",
   "execution_count": null,
   "id": "4d588560",
   "metadata": {
    "vscode": {
     "languageId": "plaintext"
    }
   },
   "outputs": [],
   "source": [
    "response = chat.send_message(\"In one sentence, explain how a computer works to a young child.\")\n",
    "response.text"
   ]
  },
  {
   "cell_type": "markdown",
   "id": "56ff85ed",
   "metadata": {},
   "source": [
    "持續對話"
   ]
  },
  {
   "cell_type": "code",
   "execution_count": null,
   "id": "fa0c56b2",
   "metadata": {
    "vscode": {
     "languageId": "plaintext"
    }
   },
   "outputs": [],
   "source": [
    "response = chat.send_message(\"Okay, how about a more detailed explanation to a high schooler?\", stream=True)\n",
    "\n",
    "for chunk in response:\n",
    "    print(chunk.text)\n",
    "    print(\"_\"*80)\n"
   ]
  }
 ],
 "metadata": {
  "language_info": {
   "name": "python"
  }
 },
 "nbformat": 4,
 "nbformat_minor": 5
}
