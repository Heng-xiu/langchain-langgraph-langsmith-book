{
 "cells": [
  {
   "cell_type": "code",
   "execution_count": null,
   "id": "ed87e70d",
   "metadata": {
    "vscode": {
     "languageId": "plaintext"
    }
   },
   "outputs": [],
   "source": [
    "# 安裝必要套件\n",
    "!pip install langgraph openai\n"
   ]
  },
  {
   "cell_type": "code",
   "execution_count": null,
   "id": "3b6c68b4",
   "metadata": {
    "vscode": {
     "languageId": "plaintext"
    }
   },
   "outputs": [],
   "source": [
    "# 導入模組\n",
    "from langgraph.graph import StateGraph, END\n",
    "from dataclasses import dataclass\n",
    "from typing import Dict\n",
    "from openai import OpenAI\n",
    "from google.colab import userdata\n",
    "\n",
    "# 定義狀態結構\n",
    "@dataclass\n",
    "class WorkflowState:\n",
    "    input: str\n",
    "    eng: str = \"\"\n",
    "    jpn: str = \"\"\n",
    "    kor: str = \"\"\n",
    "    task: str = \"eng\"\n",
    "\n",
    "# 初始化OpenAI客戶端\n",
    "client = OpenAI(api_key=userdata.get('OPENAI_API_KEY'))  # 替換為您的API金鑰\n",
    "\n",
    "# 語言模型調用函數\n",
    "def llm_call(prompt: str, max_tokens: int = 100) -> str:\n",
    "    response = client.chat.completions.create(\n",
    "        model=\"gpt-3.5-turbo\",\n",
    "        messages=[{\"role\": \"user\", \"content\": prompt}],\n",
    "        max_tokens=max_tokens\n",
    "    )\n",
    "    return response.choices[0].message.content.strip()\n",
    "\n",
    "# 監督節點：分配翻譯任務\n",
    "def supervisor_node(state: WorkflowState) -> Dict:\n",
    "    return {\"task\": state.task}\n",
    "\n",
    "# 英文翻譯節點\n",
    "def eng_node(state: WorkflowState) -> Dict:\n",
    "    prompt = f\"將以下中文翻譯成英文：\\n{state.input}\"\n",
    "    state.eng = llm_call(prompt)\n",
    "    state.task = \"jpn\"\n",
    "    return {\"eng\": state.eng, \"task\": state.task}\n",
    "\n",
    "# 日語翻譯節點\n",
    "def jpn_node(state: WorkflowState) -> Dict:\n",
    "    prompt = f\"將以下中文翻譯成日語：\\n{state.input}\"\n",
    "    state.jpn = llm_call(prompt)\n",
    "    state.task = \"kor\"\n",
    "    return {\"jpn\": state.jpn, \"task\": state.task}\n",
    "\n",
    "# 韓語翻譯節點\n",
    "def kor_node(state: WorkflowState) -> Dict:\n",
    "    prompt = f\"將以下中文翻譯成韓語：\\n{state.input}\"\n",
    "    state.kor = llm_call(prompt)\n",
    "    state.task = \"end\"\n",
    "    return {\"kor\": state.kor, \"task\": state.task}\n",
    "\n",
    "# 構建工作流程\n",
    "workflow = StateGraph(WorkflowState)\n",
    "workflow.add_node(\"supervisor\", supervisor_node)\n",
    "workflow.add_node(\"eng_node\", eng_node)\n",
    "workflow.add_node(\"jpn_node\", jpn_node)\n",
    "workflow.add_node(\"kor_node\", kor_node)\n",
    "workflow.set_entry_point(\"supervisor\")\n",
    "workflow.add_conditional_edges(\n",
    "    \"supervisor\",\n",
    "    lambda state: state.task,\n",
    "    {\"eng\": \"eng_node\", \"jpn\": \"jpn_node\", \"kor\": \"kor_node\", \"end\": END}\n",
    ")\n",
    "workflow.add_edge(\"eng_node\", \"supervisor\")\n",
    "workflow.add_edge(\"jpn_node\", \"supervisor\")\n",
    "workflow.add_edge(\"kor_node\", \"supervisor\")\n",
    "graph = workflow.compile()\n",
    "\n",
    "# 執行範例\n",
    "result = graph.invoke(WorkflowState(input=\"人工智慧改變未來\"))\n",
    "print(f\"英文翻譯：{result['eng']}\")\n",
    "print(f\"日語翻譯：{result['jpn']}\")\n",
    "print(f\"韓語翻譯：{result['kor']}\")"
   ]
  }
 ],
 "metadata": {
  "language_info": {
   "name": "python"
  }
 },
 "nbformat": 4,
 "nbformat_minor": 5
}
