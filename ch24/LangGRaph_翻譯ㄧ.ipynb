{
 "cells": [
  {
   "cell_type": "code",
   "execution_count": null,
   "id": "277a9897",
   "metadata": {
    "vscode": {
     "languageId": "plaintext"
    }
   },
   "outputs": [],
   "source": [
    "# 安裝必要套件\n",
    "!pip install langgraph openai"
   ]
  },
  {
   "cell_type": "code",
   "execution_count": null,
   "id": "0ea3923b",
   "metadata": {
    "vscode": {
     "languageId": "plaintext"
    }
   },
   "outputs": [],
   "source": [
    "# 導入模組\n",
    "from langgraph.graph import StateGraph\n",
    "from dataclasses import dataclass\n",
    "from openai import OpenAI\n",
    "from google.colab import userdata\n",
    "\n",
    "# 定義狀態結構\n",
    "@dataclass\n",
    "class TranslateState:\n",
    "    input: str\n",
    "    output: str = \"\"\n",
    "\n",
    "# 初始化OpenAI客戶端\n",
    "client = OpenAI(api_key=userdata.get('OPENAI_API_KEY'))  # 替換為您的API金鑰\n",
    "\n",
    "# 語言模型調用函數\n",
    "def llm_call(prompt: str) -> str:\n",
    "    response = client.chat.completions.create(\n",
    "        model=\"gpt-3.5-turbo\",\n",
    "        messages=[{\"role\": \"user\", \"content\": prompt}]\n",
    "    )\n",
    "    return response.choices[0].message.content.strip()\n",
    "\n",
    "# 翻譯節點：將中文翻譯成英文\n",
    "def translate_node(state: TranslateState) -> dict:\n",
    "    prompt = f\"將以下中文翻譯成英文：\\n{state.input}\"\n",
    "    state.output = llm_call(prompt)\n",
    "    return {\"output\": state.output}\n",
    "\n",
    "# 構建工作流程\n",
    "workflow = StateGraph(TranslateState)\n",
    "workflow.add_node(\"translate\", translate_node)\n",
    "workflow.set_entry_point(\"translate\")\n",
    "workflow.set_finish_point(\"translate\")\n",
    "graph = workflow.compile()\n",
    "\n",
    "# 執行範例\n",
    "result = graph.invoke(TranslateState(input=\"人工智慧改變未來\"))\n",
    "print(f\"英文翻譯：{result['output']}\")"
   ]
  }
 ],
 "metadata": {
  "language_info": {
   "name": "python"
  }
 },
 "nbformat": 4,
 "nbformat_minor": 5
}
